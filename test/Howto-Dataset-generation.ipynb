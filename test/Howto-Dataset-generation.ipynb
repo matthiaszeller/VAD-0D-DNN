{
 "cells": [
  {
   "cell_type": "code",
   "execution_count": 33,
   "metadata": {},
   "outputs": [],
   "source": [
    "from OMPython import OMCSessionZMQ\n",
    "import os\n",
    "import matplotlib.pyplot as plt\n",
    "import pandas as pd"
   ]
  },
  {
   "cell_type": "code",
   "execution_count": 14,
   "metadata": {},
   "outputs": [],
   "source": [
    "output_demo = 'generate/'\n",
    "file_demo = 'ModelDummy.mo'"
   ]
  },
  {
   "cell_type": "markdown",
   "metadata": {},
   "source": [
    "# Introduction\n",
    "\n",
    "#### Aim\n",
    "\n",
    "Describe how to generate a dataset of modelica models with Python. \n",
    "\n",
    "#### General procedure\n",
    "\n",
    "1. Create an instance of `OMCSessionZMQ`\n",
    "1. Load the modelica file with `loadFile`\n",
    "1. Build the model with `simulate`\n",
    "1. Loop over the parameters\n",
    "    1. Run the executable created in step 3, provide the argument `-override=param1_name=param1_value,param2_name=param2_value,...`\n",
    "\n",
    "#### Get ready"
   ]
  },
  {
   "cell_type": "code",
   "execution_count": 5,
   "metadata": {},
   "outputs": [],
   "source": [
    "if not os.path.isdir(output_demo):\n",
    "    !mkdir $output_demo # create the directory for the demo"
   ]
  },
  {
   "cell_type": "markdown",
   "metadata": {},
   "source": [
    "# Demo\n",
    "\n",
    "## Model\n",
    "\n",
    "We will use the following simple model for the demo:"
   ]
  },
  {
   "cell_type": "code",
   "execution_count": 15,
   "metadata": {},
   "outputs": [
    {
     "name": "stdout",
     "output_type": "stream",
     "text": [
      "model Dummy\r\n",
      "  Real x(start=1);\r\n",
      "  parameter Real a = -1;\r\n",
      "equation \r\n",
      "  der(x) = a*x;\r\n",
      "end Dummy;\r\n"
     ]
    }
   ],
   "source": [
    "!cat $file_demo"
   ]
  },
  {
   "cell_type": "markdown",
   "metadata": {},
   "source": [
    "## Implementation\n",
    "\n",
    "### Run the session & load file"
   ]
  },
  {
   "cell_type": "code",
   "execution_count": 7,
   "metadata": {},
   "outputs": [
    {
     "name": "stderr",
     "output_type": "stream",
     "text": [
      "2020-04-02 16:00:53,916 - OMPython - INFO - OMC Server is up and running at file:////tmp/openmodelica.maousi.port.e4ba25db899948578074ff6e82aed2df pid=13504\n"
     ]
    }
   ],
   "source": [
    "# Instanciate the session\n",
    "omc = OMCSessionZMQ()"
   ]
  },
  {
   "cell_type": "code",
   "execution_count": 8,
   "metadata": {},
   "outputs": [],
   "source": [
    "# Define utility function\n",
    "def runcmd(cmd):\n",
    "    return omc.sendExpression(cmd)"
   ]
  },
  {
   "cell_type": "code",
   "execution_count": 9,
   "metadata": {},
   "outputs": [
    {
     "data": {
      "text/plain": [
       "'OpenModelica 1.14.1'"
      ]
     },
     "execution_count": 9,
     "metadata": {},
     "output_type": "execute_result"
    }
   ],
   "source": [
    "runcmd('getVersion()')"
   ]
  },
  {
   "cell_type": "code",
   "execution_count": 16,
   "metadata": {},
   "outputs": [
    {
     "data": {
      "text/plain": [
       "True"
      ]
     },
     "execution_count": 16,
     "metadata": {},
     "output_type": "execute_result"
    }
   ],
   "source": [
    "# Load the model\n",
    "runcmd('loadFile(\"{}\")'.format(file_demo))"
   ]
  },
  {
   "cell_type": "markdown",
   "metadata": {},
   "source": [
    "### Build the model\n",
    "\n",
    "We use `simulate` to build the model and **generate an executable**. This is the right time to set all parameters that will not vary during the simulation loop (e.g. simulation time)."
   ]
  },
  {
   "cell_type": "code",
   "execution_count": 19,
   "metadata": {
    "scrolled": true
   },
   "outputs": [
    {
     "data": {
      "text/plain": [
       "{'resultFile': '/media/maousi/Data/Documents/Programmation/git/vad-0d-dnn/test/Dummy_res.csv',\n",
       " 'simulationOptions': \"startTime = 0.0, stopTime = 1.0, numberOfIntervals = 500, tolerance = 1e-06, method = 'dassl', fileNamePrefix = 'Dummy', options = '', outputFormat = 'csv', variableFilter = '.*', cflags = '', simflags = ''\",\n",
       " 'messages': 'LOG_SUCCESS       | info    | The initialization finished successfully without homotopy method.\\nLOG_SUCCESS       | info    | The simulation finished successfully.\\n',\n",
       " 'timeFrontend': 0.014158308,\n",
       " 'timeBackend': 0.001866769,\n",
       " 'timeSimCode': 0.000540843,\n",
       " 'timeTemplates': 0.005058718,\n",
       " 'timeCompile': 0.672368227,\n",
       " 'timeSimulation': 0.050001659,\n",
       " 'timeTotal': 0.744352939}"
      ]
     },
     "execution_count": 19,
     "metadata": {},
     "output_type": "execute_result"
    }
   ],
   "source": [
    "runcmd(\"simulate(Dummy, outputFormat=\\\"csv\\\")\")"
   ]
  },
  {
   "cell_type": "code",
   "execution_count": 20,
   "metadata": {},
   "outputs": [
    {
     "name": "stdout",
     "output_type": "stream",
     "text": [
      "Dummy\t       Dummy_08bnd.c  Dummy_14lnz.c\t Dummy_init.xml\r\n",
      "Dummy_01exo.c  Dummy_08bnd.o  Dummy_14lnz.o\t Dummy.libs\r\n",
      "Dummy_01exo.o  Dummy_09alg.c  Dummy_15syn.c\t Dummy_literals.h\r\n",
      "Dummy_02nls.c  Dummy_09alg.o  Dummy_15syn.o\t Dummy.log\r\n",
      "Dummy_02nls.o  Dummy_10asr.c  Dummy_16dae.c\t Dummy.makefile\r\n",
      "Dummy_03lsy.c  Dummy_10asr.o  Dummy_16dae.h\t Dummy_model.h\r\n",
      "Dummy_03lsy.o  Dummy_11mix.c  Dummy_16dae.o\t Dummy.o\r\n",
      "Dummy_04set.c  Dummy_11mix.h  Dummy_17inl.c\t Dummy_records.c\r\n",
      "Dummy_04set.o  Dummy_11mix.o  Dummy_17inl.o\t Dummy_records.o\r\n",
      "Dummy_05evt.c  Dummy_12jac.c  Dummy.c\t\t Dummy_res.csv\r\n",
      "Dummy_05evt.o  Dummy_12jac.h  Dummy_functions.c  generate\r\n",
      "Dummy_06inz.c  Dummy_12jac.o  Dummy_functions.h  Howto-Dataset-generation.ipynb\r\n",
      "Dummy_06inz.o  Dummy_13opt.c  Dummy_functions.o  ModelDummy.mo\r\n",
      "Dummy_07dly.c  Dummy_13opt.h  Dummy_includes.h\r\n",
      "Dummy_07dly.o  Dummy_13opt.o  Dummy_info.json\r\n"
     ]
    }
   ],
   "source": [
    "!ls"
   ]
  },
  {
   "cell_type": "markdown",
   "metadata": {},
   "source": [
    "The first file in the list, i.e. `Dummy`, is the executable (it always has the name of the model in the `.mo` file)."
   ]
  },
  {
   "cell_type": "markdown",
   "metadata": {},
   "source": [
    "### Simulation loop & parameter overriding\n",
    "\n",
    "We take advantage of the fact that OpenModelica does *not* need to recompile the model in order to re-simulate a model with different parameters. We can simply run the executable that resulted from compilation. The easiest way to do this in Python is by using `os.system('./executable_name')`. We can tell modelica to modify specific parameters by providing the `-override` argument.\n",
    "\n",
    "An easy way to perform the simulation loop is to create a *template command* that we modify accordingly in each simulation step with `format`."
   ]
  },
  {
   "cell_type": "code",
   "execution_count": 21,
   "metadata": {},
   "outputs": [],
   "source": [
    "# Define different parameters for the simulation\n",
    "a = [-1, -0.5, 0.5, 1]"
   ]
  },
  {
   "cell_type": "code",
   "execution_count": 28,
   "metadata": {},
   "outputs": [
    {
     "data": {
      "text/plain": [
       "'./Dummy -override=a={} -r=generate/Dummy_output_{}.csv'"
      ]
     },
     "execution_count": 28,
     "metadata": {},
     "output_type": "execute_result"
    }
   ],
   "source": [
    "# Create the command that we will run with os.system\n",
    "cmd_template = './Dummy' # executable name\n",
    "cmd_template += ' -override=a={}' # parameter overriding\n",
    "cmd_template += ' -r=' + output_demo + 'Dummy_output_{}.csv' # output file\n",
    "cmd_template"
   ]
  },
  {
   "cell_type": "code",
   "execution_count": 29,
   "metadata": {},
   "outputs": [
    {
     "name": "stdout",
     "output_type": "stream",
     "text": [
      "./Dummy -override=a=-1 -r=generate/Dummy_output_0.csv\n",
      "./Dummy -override=a=-0.5 -r=generate/Dummy_output_1.csv\n",
      "./Dummy -override=a=0.5 -r=generate/Dummy_output_2.csv\n",
      "./Dummy -override=a=1 -r=generate/Dummy_output_3.csv\n"
     ]
    }
   ],
   "source": [
    "# Simulation loop\n",
    "for i, val in enumerate(a):\n",
    "    # Replace the arguments accordingly\n",
    "    cmd = cmd_template.format(val, i)\n",
    "    # Run\n",
    "    os.system(cmd)\n",
    "    print(cmd)"
   ]
  },
  {
   "cell_type": "markdown",
   "metadata": {},
   "source": [
    "### Results\n",
    "\n"
   ]
  },
  {
   "cell_type": "code",
   "execution_count": 31,
   "metadata": {},
   "outputs": [
    {
     "name": "stdout",
     "output_type": "stream",
     "text": [
      "Dummy_output_0.csv  Dummy_output_1.csv\tDummy_output_2.csv  Dummy_output_3.csv\r\n"
     ]
    }
   ],
   "source": [
    "!ls $output_demo"
   ]
  },
  {
   "cell_type": "code",
   "execution_count": 43,
   "metadata": {},
   "outputs": [
    {
     "data": {
      "image/png": "[encoded data removed]",
      "text/plain": [
       "<Figure size 432x216 with 1 Axes>"
      ]
     },
     "metadata": {
      "needs_background": "light"
     },
     "output_type": "display_data"
    }
   ],
   "source": [
    "plt.figure(figsize=(6,3))\n",
    "for i,val in enumerate(a):\n",
    "    df = pd.read_csv(output_demo + 'Dummy_output_{}.csv'.format(i))\n",
    "    plt.plot(df.time, df.x, label='a='+str(val))\n",
    "plt.legend(); plt.xlabel(\"time\"); plt.ylabel(\"x(t)\");"
   ]
  },
  {
   "cell_type": "markdown",
   "metadata": {},
   "source": [
    "We clearly see that the equation $\\frac{dx}{dt} = ax$ was solved with different values of a."
   ]
  }
 ],
 "metadata": {
  "kernelspec": {
   "display_name": "Python 3",
   "language": "python",
   "name": "python3"
  },
  "language_info": {
   "codemirror_mode": {
    "name": "ipython",
    "version": 3
   },
   "file_extension": ".py",
   "mimetype": "text/x-python",
   "name": "python",
   "nbconvert_exporter": "python",
   "pygments_lexer": "ipython3",
   "version": "3.7.6"
  },
  "toc": {
   "base_numbering": 1,
   "nav_menu": {},
   "number_sections": false,
   "sideBar": true,
   "skip_h1_title": false,
   "title_cell": "Table of Contents",
   "title_sidebar": "Contents",
   "toc_cell": false,
   "toc_position": {},
   "toc_section_display": true,
   "toc_window_display": false
  },
  "varInspector": {
   "cols": {
    "lenName": 16,
    "lenType": 16,
    "lenVar": 40
   },
   "kernels_config": {
    "python": {
     "delete_cmd_postfix": "",
     "delete_cmd_prefix": "del ",
     "library": "var_list.py",
     "varRefreshCmd": "print(var_dic_list())"
    },
    "r": {
     "delete_cmd_postfix": ") ",
     "delete_cmd_prefix": "rm(",
     "library": "var_list.r",
     "varRefreshCmd": "cat(var_dic_list()) "
    }
   },
   "types_to_exclude": [
    "module",
    "function",
    "builtin_function_or_method",
    "instance",
    "_Feature"
   ],
   "window_display": false
  }
 },
 "nbformat": 4,
 "nbformat_minor": 4
}
