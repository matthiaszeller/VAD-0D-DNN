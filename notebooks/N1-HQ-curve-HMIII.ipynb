{
 "cells": [
  {
   "cell_type": "code",
   "execution_count": 1,
   "metadata": {},
   "outputs": [],
   "source": [
    "import scipy as sp\n",
    "import numpy as np\n",
    "import matplotlib.pyplot as plt"
   ]
  },
  {
   "cell_type": "markdown",
   "metadata": {},
   "source": [
    "# Introduction\n",
    "\n",
    "Get 2nd order equations of the HQ curves (Heart Mate III) for different RPMs. \n",
    "\n"
   ]
  },
  {
   "cell_type": "markdown",
   "metadata": {},
   "source": [
    "<img src=\"../res/HQ-curve-HMIII.png\"/>"
   ]
  },
  {
   "cell_type": "code",
   "execution_count": 3,
   "metadata": {},
   "outputs": [
    {
     "name": "stdout",
     "output_type": "stream",
     "text": [
      "\u001b[34;42m../\u001b[00m\r\n",
      "├── \u001b[34;42mmodelica\u001b[00m\r\n",
      "│   └── \u001b[01;32mMathcard.mo\u001b[00m\r\n",
      "├── \u001b[34;42mnotebooks\u001b[00m\r\n",
      "│   └── \u001b[01;32mN1-HQ-curve-HMIII.ipynb\u001b[00m\r\n",
      "├── \u001b[01;32mREADME.md\u001b[00m\r\n",
      "├── \u001b[34;42mres\u001b[00m\r\n",
      "│   └── \u001b[01;32mHQ-curve-HMIII.png\u001b[00m\r\n",
      "└── \u001b[34;42mtest\u001b[00m\r\n",
      "    ├── \u001b[01;32mHelloWorld.mo\u001b[00m\r\n",
      "    ├── \u001b[34;42minheritance\u001b[00m\r\n",
      "    │   ├── \u001b[01;32mColorData.mo\u001b[00m\r\n",
      "    │   ├── \u001b[01;32mColoredPoint.mo\u001b[00m\r\n",
      "    │   ├── \u001b[01;32mColor.mo\u001b[00m\r\n",
      "    │   └── \u001b[01;32mPoint.mo\u001b[00m\r\n",
      "    └── \u001b[01;32mPendulum.mo\u001b[00m\r\n",
      "\r\n",
      "5 directories, 10 files\r\n"
     ]
    }
   ],
   "source": [
    "!tree ../"
   ]
  },
  {
   "cell_type": "code",
   "execution_count": null,
   "metadata": {},
   "outputs": [],
   "source": []
  }
 ],
 "metadata": {
  "kernelspec": {
   "display_name": "Python 3",
   "language": "python",
   "name": "python3"
  },
  "language_info": {
   "codemirror_mode": {
    "name": "ipython",
    "version": 3
   },
   "file_extension": ".py",
   "mimetype": "text/x-python",
   "name": "python",
   "nbconvert_exporter": "python",
   "pygments_lexer": "ipython3",
   "version": "3.7.3"
  },
  "toc": {
   "base_numbering": 1,
   "nav_menu": {},
   "number_sections": true,
   "sideBar": true,
   "skip_h1_title": false,
   "title_cell": "Table of Contents",
   "title_sidebar": "Contents",
   "toc_cell": false,
   "toc_position": {},
   "toc_section_display": true,
   "toc_window_display": false
  }
 },
 "nbformat": 4,
 "nbformat_minor": 2
}
