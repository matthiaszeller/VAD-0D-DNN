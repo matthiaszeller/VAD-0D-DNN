{
 "cells": [
  {
   "cell_type": "code",
   "execution_count": 4,
   "metadata": {},
   "outputs": [],
   "source": [
    "import scipy as sp\n",
    "import numpy as np\n",
    "import matplotlib.pyplot as plt"
   ]
  },
  {
   "cell_type": "markdown",
   "metadata": {},
   "source": [
    "# Introduction\n",
    "\n",
    "Get 2nd order equations of the HQ curves (Heart Mate III) for different RPMs. \n",
    "\n"
   ]
  },
  {
   "cell_type": "markdown",
   "metadata": {},
   "source": [
    "<img src=\"../res/HQ-curve-HMIII.png\" width=\"60%\"/>"
   ]
  },
  {
   "cell_type": "markdown",
   "metadata": {},
   "source": [
    "# Curve coefficients"
   ]
  },
  {
   "cell_type": "markdown",
   "metadata": {},
   "source": [
    "#### Report data points\n"
   ]
  },
  {
   "cell_type": "code",
   "execution_count": 5,
   "metadata": {},
   "outputs": [],
   "source": [
    "# Dictionnary: RPM [int] -> data [list of xs [list] and ys[list] ]\n",
    "# x = Q, y = P\n",
    "data = {}"
   ]
  },
  {
   "cell_type": "code",
   "execution_count": 6,
   "metadata": {},
   "outputs": [],
   "source": [
    "data[3000] = [\n",
    "    [0.0, 1.0, 2.0, 2.9], # flow\n",
    "    [32,  29, 23, 14],   # pressure\n",
    "]"
   ]
  },
  {
   "cell_type": "code",
   "execution_count": 7,
   "metadata": {},
   "outputs": [],
   "source": [
    "data[4000] = [\n",
    "    [0.0, 2.0, 3.0, 4.5],\n",
    "    [58,  49,  41,  16]\n",
    "]"
   ]
  },
  {
   "cell_type": "code",
   "execution_count": 8,
   "metadata": {},
   "outputs": [],
   "source": [
    "data[5000] = [\n",
    "    [0.0, 2.0, 4.0, 6.0],\n",
    "    [90,  80,  63,  19]\n",
    "]"
   ]
  },
  {
   "cell_type": "code",
   "execution_count": 9,
   "metadata": {},
   "outputs": [],
   "source": [
    "data[6000] = [\n",
    "    [0.0, 2.0, 4.0, 6.0, 7.0, 7.4],\n",
    "    [131, 120, 105, 70,  36,  22]\n",
    "]"
   ]
  },
  {
   "cell_type": "code",
   "execution_count": 10,
   "metadata": {},
   "outputs": [],
   "source": [
    "data[7000] = [\n",
    "    [0.0, 2.0, 4.0, 5.0, 8.0],\n",
    "    [177, 168, 150, 140, 63]\n",
    "]"
   ]
  },
  {
   "cell_type": "code",
   "execution_count": 11,
   "metadata": {},
   "outputs": [],
   "source": [
    "data[8000] = [\n",
    "    [0.0, 2.0, 3.0, 5.0, 6.0, 8.0, 10.0],\n",
    "    [232, 220, 211, 191, 178, 126, 43]\n",
    "]"
   ]
  },
  {
   "cell_type": "code",
   "execution_count": 12,
   "metadata": {},
   "outputs": [],
   "source": [
    "data[9000] = [\n",
    "    [0.0, 2.0, 4.0, 6.0, 9.0, 10.0, 11.0],\n",
    "    [290, 278, 263, 240, 164, 125,  72]\n",
    "]"
   ]
  },
  {
   "cell_type": "markdown",
   "metadata": {},
   "source": [
    "#### Adjust units\n",
    "\n",
    "The reported data is in $L/min$, while the model assumes $ml/s$. Thus we have to multiply every measure of $Q$ by $1000/60$."
   ]
  },
  {
   "cell_type": "code",
   "execution_count": 13,
   "metadata": {},
   "outputs": [],
   "source": [
    "for RPM in data:\n",
    "    data[RPM] = np.array(data[RPM])\n",
    "    data[RPM][0] = data[RPM][0] * 1000 / 60"
   ]
  },
  {
   "cell_type": "markdown",
   "metadata": {},
   "source": [
    "## Fit polynomials\n",
    "\n",
    "\n",
    "#### Procedure \n",
    "\n",
    "1. We reconstruct the HQ curve with the same axes as the original plot, as a mean of comparison\n",
    "2. We reconstruct the HQ curve with **inverted axes**,\n",
    "    * i.e. we perform polynomial regression with P as the input and Q as the output"
   ]
  },
  {
   "cell_type": "markdown",
   "metadata": {},
   "source": [
    "#### Demo"
   ]
  },
  {
   "cell_type": "code",
   "execution_count": 14,
   "metadata": {},
   "outputs": [
    {
     "name": "stdout",
     "output_type": "stream",
     "text": [
      "[ 1.22017354  0.11388286 -0.0835141 ]\n"
     ]
    },
    {
     "data": {
      "image/png": "[encoded data removed]",
      "text/plain": [
       "<Figure size 432x288 with 1 Axes>"
      ]
     },
     "metadata": {
      "needs_background": "light"
     },
     "output_type": "display_data"
    }
   ],
   "source": [
    "# Demo numpy.polyfit: f(x)=x^2\n",
    "x = [-1,0,1, 1.2]\n",
    "y = [1,0,1, 2]\n",
    "coefs = np.polyfit(x, y, 2)\n",
    "coefs # order: x^n, x^n-1, ..., x^1, x^0\n",
    "print(coefs)\n",
    "plt.scatter(x, y)\n",
    "x = np.linspace(-2, 2, 100)\n",
    "plt.plot(x, np.polyval(coefs, x));"
   ]
  },
  {
   "cell_type": "markdown",
   "metadata": {},
   "source": [
    "#### Compute coefficients"
   ]
  },
  {
   "cell_type": "code",
   "execution_count": 15,
   "metadata": {},
   "outputs": [],
   "source": [
    "# Pressure in function of flow\n",
    "coefs = {}\n",
    "# Flow in function of pressure\n",
    "coefs_rev = {}\n",
    "\n",
    "for k in data:\n",
    "    x = data[k][0]\n",
    "    y = data[k][1]\n",
    "    coefs[k] = np.polyfit(x, y, deg=2)\n",
    "    coefs_rev[k] = np.polyfit(y, x, deg=2)"
   ]
  },
  {
   "cell_type": "code",
   "execution_count": 16,
   "metadata": {},
   "outputs": [
    {
     "data": {
      "text/plain": [
       "{3000: array([-6.41965766e-03, -5.96681677e-02,  3.19451487e+01]),\n",
       " 4000: array([-7.71827707e-03,  2.58323632e-02,  5.77991851e+01]),\n",
       " 5000: array([-7.65e-03,  7.50e-02,  8.90e+01]),\n",
       " 6000: array([-8.36547556e-03,  1.92188722e-01,  1.28446363e+02]),\n",
       " 7000: array([-7.16105290e-03,  1.20669563e-01,  1.75321748e+02]),\n",
       " 8000: array([-7.83343555e-03,  2.41598816e-01,  2.25995876e+02]),\n",
       " 9000: array([-7.58147075e-03,  2.83673726e-01,  2.83909077e+02])}"
      ]
     },
     "execution_count": 16,
     "metadata": {},
     "output_type": "execute_result"
    }
   ],
   "source": [
    "coefs"
   ]
  },
  {
   "cell_type": "code",
   "execution_count": 17,
   "metadata": {},
   "outputs": [
    {
     "data": {
      "text/plain": [
       "{3000: array([-0.12205387,  3.00925926, 29.88636364]),\n",
       " 4000: array([-4.88034086e-02,  1.84837429e+00,  5.77709507e+01]),\n",
       " 5000: array([-2.45944445e-02,  1.29678032e+00,  8.40811870e+01]),\n",
       " 6000: array([-1.21526186e-02,  8.19382568e-01,  1.07021624e+02]),\n",
       " 7000: array([-1.37201995e-02,  2.16110226e+00,  5.14744398e+01]),\n",
       " 8000: array([-5.53127232e-03,  7.05034781e-01,  1.43812490e+02]),\n",
       " 9000: array([-4.29159884e-03,  8.05248158e-01,  1.41178920e+02])}"
      ]
     },
     "execution_count": 17,
     "metadata": {},
     "output_type": "execute_result"
    }
   ],
   "source": [
    "coefs_rev"
   ]
  },
  {
   "cell_type": "markdown",
   "metadata": {},
   "source": [
    "#### HQ plot"
   ]
  },
  {
   "cell_type": "code",
   "execution_count": null,
   "metadata": {},
   "outputs": [],
   "source": [
    "fig,ax = plt.subplots(1,1,figsize=(10,5))\n",
    "Qmax = 12 * 1000/60\n",
    "Q = np.linspace(0, Qmax, 1000)\n",
    "\n",
    "for RPM, coef in coefs.items():\n",
    "    plt.scatter(data[RPM][0], data[RPM][1])\n",
    "    plt.plot(Q, np.polyval(coef, Q))\n",
    "\n",
    "plt.xlim(0, Qmax); plt.ylim(0, 300); plt.grid(ls='--');\n",
    "plt.xlabel(\"Flow Q [ml/s]\"); plt.ylabel(\"Pressure head dP [mmHg]\");\n",
    "plt.title(\"Reconstructed HQ curve\");"
   ]
  },
  {
   "cell_type": "code",
   "execution_count": null,
   "metadata": {},
   "outputs": [],
   "source": [
    "fig,ax = plt.subplots(1,1,figsize=(10,5))\n",
    "for RPM, coef in coefs_rev.items():\n",
    "    pmin = min(data[RPM][1])\n",
    "    pmax = max(data[RPM][1])\n",
    "    dP = np.linspace(pmin, pmax, 1000)\n",
    "    Q = np.polyval(coef, dP)\n",
    "    plt.scatter(data[RPM][1], data[RPM][0])\n",
    "    plt.plot(dP, Q, label=RPM)\n",
    "    \n",
    "plt.xlabel(\"Pressure head dP [mmHg]\"); plt.ylabel(\"Flow Q [ml/s]\"); plt.legend();\n",
    "plt.grid(ls='--'); plt.title(\"Q as function of pressure head dP\");"
   ]
  },
  {
   "cell_type": "markdown",
   "metadata": {},
   "source": [
    "<br /><br /><br /><br /><br /><br /><br /><br /><br /><br /><br /><br /><br /><br /><br /><br /><br /><br /><br /><br /><br /><br /><br /><br /><br /><br /><br /><br /><br /><br /><br /><br /><br /><br /><br /><br />"
   ]
  }
 ],
 "metadata": {
  "kernelspec": {
   "display_name": "Python 3",
   "language": "python",
   "name": "python3"
  },
  "language_info": {
   "codemirror_mode": {
    "name": "ipython",
    "version": 3
   },
   "file_extension": ".py",
   "mimetype": "text/x-python",
   "name": "python",
   "nbconvert_exporter": "python",
   "pygments_lexer": "ipython3",
   "version": "3.7.3"
  },
  "toc": {
   "base_numbering": 1,
   "nav_menu": {},
   "number_sections": true,
   "sideBar": true,
   "skip_h1_title": false,
   "title_cell": "Table of Contents",
   "title_sidebar": "Contents",
   "toc_cell": false,
   "toc_position": {},
   "toc_section_display": true,
   "toc_window_display": false
  },
  "varInspector": {
   "cols": {
    "lenName": 16,
    "lenType": 16,
    "lenVar": 40
   },
   "kernels_config": {
    "python": {
     "delete_cmd_postfix": "",
     "delete_cmd_prefix": "del ",
     "library": "var_list.py",
     "varRefreshCmd": "print(var_dic_list())"
    },
    "r": {
     "delete_cmd_postfix": ") ",
     "delete_cmd_prefix": "rm(",
     "library": "var_list.r",
     "varRefreshCmd": "cat(var_dic_list()) "
    }
   },
   "types_to_exclude": [
    "module",
    "function",
    "builtin_function_or_method",
    "instance",
    "_Feature"
   ],
   "window_display": false
  }
 },
 "nbformat": 4,
 "nbformat_minor": 2
}
