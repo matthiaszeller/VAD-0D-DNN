{
 "cells": [
  {
   "cell_type": "code",
   "execution_count": null,
   "metadata": {},
   "outputs": [],
   "source": [
    "import scipy as sp\n",
    "import numpy as np\n",
    "import matplotlib.pyplot as plt\n",
    "import pickle"
   ]
  },
  {
   "cell_type": "markdown",
   "metadata": {},
   "source": [
    "# Introduction\n",
    "\n",
    "#### Aim\n",
    "\n",
    "* Extract the HQ curves of the Heart Mate 3 device, for different RPMs. We constraint the curves to be polynomials of degree two.\n",
    "* The coefficients of the curves will be reported in the `VAD2` model in the `Mathcard.mo` file.\n",
    "\n",
    "#### Original HQ curve"
   ]
  },
  {
   "cell_type": "code",
   "execution_count": null,
   "metadata": {},
   "outputs": [],
   "source": [
    "from IPython.display import Image\n",
    "Image(\"../res/modelica/HQ-curve-HMIII.png\")"
   ]
  },
  {
   "cell_type": "markdown",
   "metadata": {},
   "source": [
    "# Curve coefficients"
   ]
  },
  {
   "cell_type": "markdown",
   "metadata": {},
   "source": [
    "#### Report data points\n"
   ]
  },
  {
   "cell_type": "code",
   "execution_count": null,
   "metadata": {},
   "outputs": [],
   "source": [
    "# Dictionnary: RPM [int] -> data [list of xs [list] and ys[list] ]\n",
    "# x = Q, y = P\n",
    "data = {}"
   ]
  },
  {
   "cell_type": "code",
   "execution_count": null,
   "metadata": {},
   "outputs": [],
   "source": [
    "data[3000] = [\n",
    "    [0.0, 1.0, 2.0, 2.9], # flow\n",
    "    [32,  29, 23, 14],   # pressure\n",
    "]"
   ]
  },
  {
   "cell_type": "code",
   "execution_count": null,
   "metadata": {},
   "outputs": [],
   "source": [
    "data[4000] = [\n",
    "    [0.0, 2.0, 3.0, 4.5],\n",
    "    [58,  49,  41,  16]\n",
    "]"
   ]
  },
  {
   "cell_type": "code",
   "execution_count": null,
   "metadata": {},
   "outputs": [],
   "source": [
    "data[5000] = [\n",
    "    [0.0, 2.0, 4.0, 6.0],\n",
    "    [90,  80,  63,  19]\n",
    "]"
   ]
  },
  {
   "cell_type": "code",
   "execution_count": null,
   "metadata": {},
   "outputs": [],
   "source": [
    "data[6000] = [\n",
    "    [0.0, 2.0, 4.0, 6.0, 7.0, 7.4],\n",
    "    [131, 120, 105, 70,  36,  22]\n",
    "]"
   ]
  },
  {
   "cell_type": "code",
   "execution_count": null,
   "metadata": {},
   "outputs": [],
   "source": [
    "data[7000] = [\n",
    "    [0.0, 2.0, 4.0, 5.0, 8.0],\n",
    "    [177, 168, 150, 140, 63]\n",
    "]"
   ]
  },
  {
   "cell_type": "code",
   "execution_count": null,
   "metadata": {},
   "outputs": [],
   "source": [
    "data[8000] = [\n",
    "    [0.0, 2.0, 3.0, 5.0, 6.0, 8.0, 10.0],\n",
    "    [232, 220, 211, 191, 178, 126, 43]\n",
    "]"
   ]
  },
  {
   "cell_type": "code",
   "execution_count": null,
   "metadata": {},
   "outputs": [],
   "source": [
    "data[9000] = [\n",
    "    [0.0, 2.0, 4.0, 6.0, 9.0, 10.0, 11.0],\n",
    "    [290, 278, 263, 240, 164, 125,  72]\n",
    "]"
   ]
  },
  {
   "cell_type": "code",
   "execution_count": null,
   "metadata": {},
   "outputs": [],
   "source": [
    "pickle.dump(data, open('../res/modelica/HM3-HQ-curve-data.bin', 'wb'))"
   ]
  },
  {
   "cell_type": "markdown",
   "metadata": {},
   "source": [
    "#### Adjust units\n",
    "\n",
    "The reported flow rate values are in $L/min$, while the model assumes $ml/s$. Thus we have to multiply every measure of $Q$ by $1000/60$."
   ]
  },
  {
   "cell_type": "code",
   "execution_count": null,
   "metadata": {},
   "outputs": [],
   "source": [
    "for RPM in data:\n",
    "    data[RPM] = np.array(data[RPM])\n",
    "    data[RPM][0] = data[RPM][0] * 1000 / 60"
   ]
  },
  {
   "cell_type": "markdown",
   "metadata": {},
   "source": [
    "## Fit polynomials\n",
    "\n",
    "\n",
    "#### Procedure \n",
    "\n",
    "1. We reconstruct the HQ curve with the same axes as the original plot, as a mean of comparison\n",
    "2. We reconstruct the HQ curve with **inverted axes**,\n",
    "    * i.e. we perform polynomial regression with P as the input and Q as the output"
   ]
  },
  {
   "cell_type": "markdown",
   "metadata": {},
   "source": [
    "#### Demo"
   ]
  },
  {
   "cell_type": "code",
   "execution_count": null,
   "metadata": {},
   "outputs": [],
   "source": [
    "# Demo numpy.polyfit: f(x)=x^2\n",
    "x = [-1,0,1, 1.2]\n",
    "y = [1,0,1, 2]\n",
    "coefs = np.polyfit(x, y, 2)\n",
    "coefs # order: x^n, x^n-1, ..., x^1, x^0\n",
    "print(coefs)\n",
    "plt.subplots(1,1,figsize=(6,3))\n",
    "plt.scatter(x, y)\n",
    "x = np.linspace(-2, 2, 100)\n",
    "plt.plot(x, np.polyval(coefs, x));"
   ]
  },
  {
   "cell_type": "markdown",
   "metadata": {},
   "source": [
    "#### Compute coefficients of the polynomials"
   ]
  },
  {
   "cell_type": "code",
   "execution_count": null,
   "metadata": {},
   "outputs": [],
   "source": [
    "# Pressure in function of flow, dP(Q)\n",
    "coefs = {}\n",
    "# Flow in function of pressure, Q(dP)\n",
    "coefs_rev = {}\n",
    "\n",
    "for k in data:\n",
    "    x = data[k][0]\n",
    "    y = data[k][1]\n",
    "    coefs[k] = np.polyfit(x, y, deg=2)\n",
    "    coefs_rev[k] = np.polyfit(y, x, deg=2)"
   ]
  },
  {
   "cell_type": "code",
   "execution_count": null,
   "metadata": {},
   "outputs": [],
   "source": [
    "coefs"
   ]
  },
  {
   "cell_type": "code",
   "execution_count": null,
   "metadata": {},
   "outputs": [],
   "source": [
    "coefs_rev"
   ]
  },
  {
   "cell_type": "markdown",
   "metadata": {},
   "source": [
    "#### HQ plots"
   ]
  },
  {
   "cell_type": "code",
   "execution_count": null,
   "metadata": {},
   "outputs": [],
   "source": [
    "fig,ax = plt.subplots(1,1,figsize=(10,5))\n",
    "Qmax = 12 * 1000/60\n",
    "Q = np.linspace(0, Qmax, 1000)\n",
    "\n",
    "for RPM, coef in coefs.items():\n",
    "    plt.scatter(data[RPM][0], data[RPM][1])\n",
    "    plt.plot(Q, np.polyval(coef, Q))\n",
    "\n",
    "plt.xlim(0, Qmax); plt.ylim(0, 300); plt.grid(ls='--');\n",
    "plt.xlabel(\"Flow Q [ml/s]\"); plt.ylabel(\"Pressure head dP [mmHg]\");\n",
    "plt.title(\"Reconstructed HQ curve\");\n",
    "plt.savefig('../res/modelica/HM3-HQ-curve-reconstructed.svg')"
   ]
  },
  {
   "cell_type": "code",
   "execution_count": null,
   "metadata": {},
   "outputs": [],
   "source": [
    "fig,ax = plt.subplots(1,1,figsize=(5, 10))\n",
    "for RPM, coef in coefs_rev.items():\n",
    "    pmin = min(data[RPM][1])\n",
    "    pmax = max(data[RPM][1])\n",
    "    dP = np.linspace(pmin, pmax, 1000)\n",
    "    Q = np.polyval(coef, dP)\n",
    "    plt.scatter(data[RPM][1], data[RPM][0])\n",
    "    plt.plot(dP, Q, label=RPM)\n",
    "    \n",
    "plt.xlabel(\"Pressure head dP [mmHg]\"); plt.ylabel(\"Flow Q [ml/s]\"); plt.legend();\n",
    "plt.grid(ls='--'); plt.title(\"Q as function of pressure head dP\");"
   ]
  },
  {
   "cell_type": "markdown",
   "metadata": {},
   "source": [
    "# Compare with the HQ curve of HM2\n",
    "\n",
    "## Coefficients\n",
    "\n",
    "Code provided from the `VAD` model in modelica:\n",
    "\n",
    "```\n",
    "Q = if RPM == 10000 then min(306.65 - 4.03 * dP + 0.0127 * dP ^ 2, 133) else if RPM == 9000 then min(245.16 - 3.6 * dP + 0.0119 * dP ^ 2, 116.667) else if RPM == 8000 then min(195.85 - 3.506 * dP + 0.0136 * dP ^ 2, 100) else 0;```\n"
   ]
  },
  {
   "cell_type": "code",
   "execution_count": null,
   "metadata": {},
   "outputs": [],
   "source": [
    "coef = {}\n",
    "mins = {}"
   ]
  },
  {
   "cell_type": "code",
   "execution_count": null,
   "metadata": {},
   "outputs": [],
   "source": [
    "coef[10000] = [0.0127, -4.03, 306.65]\n",
    "coef[9000]  = [0.0119, -3.6,  245.16]\n",
    "coef[8000]  = [0.0136, -3.506, 195.85]"
   ]
  },
  {
   "cell_type": "code",
   "execution_count": null,
   "metadata": {},
   "outputs": [],
   "source": [
    "mins[10000] = 133\n",
    "mins[9000] = 116.667\n",
    "mins[8000] = 100"
   ]
  },
  {
   "cell_type": "markdown",
   "metadata": {},
   "source": [
    "## Plotting without `min` applied"
   ]
  },
  {
   "cell_type": "code",
   "execution_count": null,
   "metadata": {},
   "outputs": [],
   "source": [
    "dP = np.linspace(0, 300, 1000)\n",
    "plt.subplots(1,1,figsize=(6,4))\n",
    "\n",
    "for elem in coef :\n",
    "    Q = np.polyval(coef[elem], dP)\n",
    "    plt.plot(dP, Q, label=elem)\n",
    "\n",
    "plt.grid(ls='--'); plt.xlabel(\"dP\"); plt.ylabel(\"Q\");\n",
    "plt.legend();"
   ]
  },
  {
   "cell_type": "markdown",
   "metadata": {},
   "source": [
    "## Apply `min`"
   ]
  },
  {
   "cell_type": "code",
   "execution_count": null,
   "metadata": {},
   "outputs": [],
   "source": [
    "curves = {}\n",
    "dP = np.linspace(0, 300, 1000)\n",
    "for elem in coef :\n",
    "    Q = np.polyval(coef[elem], dP)\n",
    "    curves[elem] = Q"
   ]
  },
  {
   "cell_type": "code",
   "execution_count": null,
   "metadata": {},
   "outputs": [],
   "source": [
    "# Apply the min\n",
    "curves_corrected = {}\n",
    "for RPM in curves : \n",
    "    curves_corrected[RPM] = [ min(mins[RPM], q) for q in curves[RPM] ]"
   ]
  },
  {
   "cell_type": "code",
   "execution_count": null,
   "metadata": {},
   "outputs": [],
   "source": [
    "plt.subplots(1,1,figsize=(6,4))\n",
    "dP = np.linspace(0, 300, 1000)\n",
    "for RPM in curves_corrected:\n",
    "    plt.plot(dP, curves_corrected[RPM], label=RPM)\n",
    "    \n",
    "plt.grid(ls='--'); plt.xlabel(\"dP\"); plt.ylabel(\"Q\");\n",
    "plt.legend();"
   ]
  },
  {
   "cell_type": "markdown",
   "metadata": {},
   "source": [
    "# Reconsider the range of values for `dP`"
   ]
  },
  {
   "cell_type": "code",
   "execution_count": null,
   "metadata": {},
   "outputs": [],
   "source": [
    "Image(\"../res/modelica/LVAD_dP.png\")"
   ]
  },
  {
   "cell_type": "markdown",
   "metadata": {},
   "source": [
    "The blue curve `LVAD2.dP` on top is for HM3, the red curve `LVAD.dP` is for HM2."
   ]
  },
  {
   "cell_type": "markdown",
   "metadata": {},
   "source": [
    "## HM2 HQ curve restricted in the observed dP range"
   ]
  },
  {
   "cell_type": "code",
   "execution_count": null,
   "metadata": {},
   "outputs": [],
   "source": [
    "dPmax = 85\n",
    "plt.subplots(1,1,figsize=(6,4))\n",
    "for RPM in curves_corrected : \n",
    "    plt.plot(dP, curves_corrected[RPM], label=RPM)\n",
    "    \n",
    "plt.grid(ls='--'); plt.xlabel(\"dP\"); plt.ylabel(\"Q\");\n",
    "plt.legend(); plt.xlim(0, dPmax);\n",
    "plt.title(\"HMII HQ curve restricted in the observed dP range\");"
   ]
  },
  {
   "cell_type": "markdown",
   "metadata": {},
   "source": [
    "## HM3 HQ curve: Determine points where Q start to decrease"
   ]
  },
  {
   "cell_type": "markdown",
   "metadata": {},
   "source": [
    "Given $Q = a_2 x^2 + a_1 x + a_0$, with x=dP, we calculate points where $Q'(x) = 0$, i.e. we calculate the x such that $x = - \\frac{a_1}{2a_2}$"
   ]
  },
  {
   "cell_type": "code",
   "execution_count": null,
   "metadata": {},
   "outputs": [],
   "source": [
    "dP_critical = {}\n",
    "\n",
    "for RPM in coefs_rev : \n",
    "    dP_critical[RPM] = - coefs_rev[RPM][1] / (2 * coefs_rev[RPM][0])\n",
    "print(dP_critical)"
   ]
  },
  {
   "cell_type": "code",
   "execution_count": null,
   "metadata": {},
   "outputs": [],
   "source": [
    "fig,ax = plt.subplots(1,1,figsize=(10,5))\n",
    "\n",
    "dPmax_HMIII = 300\n",
    "dP = np.linspace(0, dPmax_HMIII, 1000)\n",
    "\n",
    "\n",
    "for RPM in dP_critical : \n",
    "    # Compute Q\n",
    "    Q = np.polyval(coefs_rev[RPM], dP)\n",
    "    # Compute the points where Q begins to decrease\n",
    "    a0, a1, a2 = coefs_rev[RPM][2], coefs_rev[RPM][1], coefs_rev[RPM][0]\n",
    "    crit = dP_critical[RPM]\n",
    "    q_crit = a0 + a1 * crit + a2 * crit ** 2\n",
    "    # Once Q starts to decrease, set a constant\n",
    "    Q = [ q if dP[i] >= crit else q_crit for i,q in enumerate(Q) ]\n",
    "    \n",
    "    print(\"RPM={}, (dP_crit, Q_crit) = ({:.5}, {:.5})\".format(RPM, crit, q_crit))\n",
    "    # Plot the cross marker\n",
    "    plt.scatter(crit, q_crit, marker='x', color=\"red\")\n",
    "    ## Plot the curve\n",
    "    plt.plot(dP, Q, label=RPM)\n",
    "    \n",
    "plt.xlim(0, dPmax_HMIII); plt.ylim(0, 200); plt.legend();\n",
    "plt.xlabel(\"dP [mmHg]\"); plt.ylabel(\"Q [mL/s]\");\n",
    "plt.title('$Q$ in function of $dP$  as implemented in Modelica')\n",
    "plt.savefig('../res/modelica/HM3-HQ-curve-reversed.jpg')"
   ]
  },
  {
   "cell_type": "markdown",
   "metadata": {},
   "source": [
    "# Article figure"
   ]
  },
  {
   "cell_type": "code",
   "execution_count": null,
   "metadata": {},
   "outputs": [],
   "source": [
    "from ipypublish import nb_setup\n",
    "import seaborn as sns"
   ]
  },
  {
   "cell_type": "code",
   "execution_count": null,
   "metadata": {},
   "outputs": [],
   "source": [
    "plt = nb_setup.setup_matplotlib(usetex=False)\n",
    "sns.set(style='whitegrid')"
   ]
  },
  {
   "cell_type": "code",
   "execution_count": null,
   "metadata": {},
   "outputs": [],
   "source": [
    "fig,ax = plt.subplots(1,1,figsize=(8,4))\n",
    "\n",
    "dPmax_HMIII = 300\n",
    "dP = np.linspace(0, dPmax_HMIII, 1000)\n",
    "\n",
    "for RPM in dP_critical : \n",
    "    # Compute Q\n",
    "    Q = np.polyval(coefs_rev[RPM], dP)\n",
    "    # Compute the points where Q begins to decrease\n",
    "    a0, a1, a2 = coefs_rev[RPM][2], coefs_rev[RPM][1], coefs_rev[RPM][0]\n",
    "    crit = dP_critical[RPM]\n",
    "    q_crit = a0 + a1 * crit + a2 * crit ** 2\n",
    "    \n",
    "    # Once Q starts to decrease, set a constant\n",
    "    Q = [ q if dP[i] >= crit else q_crit for i,q in enumerate(Q) ]\n",
    "    \n",
    "    print(\"RPM={}, (dP_crit, Q_crit) = ({:.5}, {:.5})\".format(RPM, crit, q_crit))\n",
    "    # Plot the cross marker\n",
    "    plt.scatter(crit, q_crit, marker='x', color=\"black\", zorder=20)\n",
    "    ## Plot the curve\n",
    "    plt.plot(dP, Q, label=RPM)\n",
    "    \n",
    "plt.xlim(0, dPmax_HMIII); plt.ylim(0, 200); plt.legend();\n",
    "plt.xlabel(\"$\\Delta$P [mmHg]\"); plt.ylabel(\"Q [mL/s]\");\n",
    "plt.legend(title='RPM')\n",
    "plt.grid(ls='--')\n",
    "#plt.title('$Q$ in function of $dP$  as implemented in Modelica')\n",
    "#plt.savefig('../res/modelica/HM3-HQ-curve-reversed.jpg')\n",
    "plt.tight_layout()\n",
    "plt.savefig('figs/LVAD-HQ-curve.eps')\n",
    "plt.savefig('figs/LVAD-HQ-curve.pdf')"
   ]
  },
  {
   "cell_type": "markdown",
   "metadata": {},
   "source": [
    "# Interpolate data at intermediate pump speed\n",
    "\n",
    "## Reverse ramp test\n",
    "\n",
    "The reverse ramp test consists of a progressive decrease in pump speed, by steps of 100 RPM. We want to calibrate DNNs for pump configurations between 6000 and 4000 RPMs (i.e. 21 configurations), and thus we need to interpolate curves at those intermediate speeds. "
   ]
  },
  {
   "cell_type": "code",
   "execution_count": null,
   "metadata": {},
   "outputs": [],
   "source": [
    "# Rationale: we can simply interpolate the polynomial coefficients\n",
    "plt.figure(figsize=(6, 2.5))\n",
    "p1 = [1.5, 0.5, 1]\n",
    "p2 = [1, 1, 0]\n",
    "x = np.linspace(-2, 2, 1000)\n",
    "y1 = np.polyval(p1, x)\n",
    "y2 = np.polyval(p2, x)\n",
    "y = np.polyval([(e1+e2)/2 for e1,e2 in zip(p1, p2)], x)\n",
    "plt.plot(x, y1, x, y2, x, y);"
   ]
  },
  {
   "cell_type": "code",
   "execution_count": null,
   "metadata": {},
   "outputs": [],
   "source": [
    "def interp_curve(coefs_dict, target_speed):\n",
    "    \"\"\"Returns the coefficients of the curve corresponding to target_speed, \n",
    "    obtained by linear interpolation between closest available data.\"\"\"\n",
    "    if target_speed in coefs_dict:\n",
    "        return list(coefs_dict[target_speed])\n",
    "    \n",
    "    speeds = sorted(list(coefs_dict))\n",
    "    if target_speed < speeds[0] or target_speed > speeds[-1]:\n",
    "        print(f'Warning: Target speed {target_speed} out of bounds.')\n",
    "        if target_speed < speeds[0]:\n",
    "            lower, upper = speeds[:2]\n",
    "        else:\n",
    "            lower, upper = speeds[-2:]\n",
    "    else:\n",
    "        # Find closest RPM levels on which to perform interpolation\n",
    "        lower = max(filter(lambda x: x < target_speed, speeds))\n",
    "        upper = min(filter(lambda x: x > target_speed, speeds))\n",
    "    \n",
    "    relationships = [\n",
    "        np.polyfit([lower, upper], [c1, c2], deg=1)\n",
    "        for c1, c2 in zip(coefs_dict[lower], coefs_dict[upper])\n",
    "    ]\n",
    "    \n",
    "    coeffs = [\n",
    "        np.polyval(p, target_speed)\n",
    "        for p in relationships\n",
    "    ]\n",
    "    \n",
    "    return coeffs"
   ]
  },
  {
   "cell_type": "code",
   "execution_count": null,
   "metadata": {},
   "outputs": [],
   "source": [
    "interp_curve(coefs_rev, 3900)"
   ]
  },
  {
   "cell_type": "code",
   "execution_count": null,
   "metadata": {},
   "outputs": [],
   "source": [
    "curves = {\n",
    "    speed: interp_curve(coefs_rev, speed)\n",
    "    for speed in range(4000, 6100, 100)\n",
    "}\n",
    "curves"
   ]
  },
  {
   "cell_type": "code",
   "execution_count": null,
   "metadata": {},
   "outputs": [],
   "source": [
    "def compute_critical_values(coefs):\n",
    "    xcrit = - coefs[1] / (2*coefs[0])\n",
    "    ycrit = np.polyval(coefs, xcrit)\n",
    "    return xcrit, ycrit"
   ]
  },
  {
   "cell_type": "code",
   "execution_count": null,
   "metadata": {},
   "outputs": [],
   "source": [
    "def plot_interp_curves(coefs_dict, speeds, dp_max=100, q_max=200):\n",
    "    fig, ax = plt.subplots(1, 1, figsize=(8, 4))\n",
    "    \n",
    "    dp = np.linspace(0, dp_max, 1000)\n",
    "    \n",
    "    for s in speeds:\n",
    "        coefs = interp_curve(coefs_dict, s)\n",
    "        #dp_crit = - coefs[1] / (2*coefs[0])\n",
    "        #q_crit = np.polyval(coefs, dp_crit)\n",
    "        dp_crit, q_crit = compute_critical_values(coefs)\n",
    "        q = np.polyval(coefs, dp)\n",
    "        q = [\n",
    "            q_ if dp[i] >= dp_crit else q_crit\n",
    "            for i, q_ in enumerate(q)\n",
    "        ]\n",
    "        pltparams = ('-', dp_crit, q_crit, 'xr') \\\n",
    "                    if s in coefs_dict else ('k--', )\n",
    "        if s in coefs_dict:\n",
    "            ax.plot(dp, q, label=str(s))\n",
    "            ax.plot(dp_crit, q_crit, 'xr')\n",
    "        else:\n",
    "            ax.plot(dp, q, 'k', lw=.5)\n",
    "        #ax.plot(dp_crit, q_crit, 'o')\n",
    "    \n",
    "    ax.set_xlabel('Pump differential pressure [mmHg]')\n",
    "    ax.set_ylabel('Pump blood flow [mL/s]')\n",
    "    ax.axis(ymin=0, ymax=q_max)\n",
    "    ax.legend(title='RPM')"
   ]
  },
  {
   "cell_type": "code",
   "execution_count": null,
   "metadata": {},
   "outputs": [],
   "source": [
    "plot_interp_curves(coefs_rev, range(2000, 8100, 100), dp_max=250, q_max=175)"
   ]
  },
  {
   "cell_type": "markdown",
   "metadata": {},
   "source": [
    "## Format to modelica code\n",
    "\n",
    "The HQ curves are hard-coded in Modelica, we provide here an automatic output from the previously computed coefficients of the curves. Here is an example of what the Modelica code looks like:\n",
    "\n",
    "```\n",
    "  Q = max(0, \n",
    "    if RPM == 3000 then \n",
    "      if dP < 12.33 then 48.43 \n",
    "      else (-0.12205 * dP ^ 2) + 3.0093 * dP + 29.886 \n",
    "    else if RPM == 4000 then \n",
    "      if dP < 18.94 then 75.27 \n",
    "      else (-0.048803 * dP ^ 2) + 1.8484 * dP + 57.770 \n",
    "    else if RPM == 5000 then \n",
    "      if dP < 26.36 then 101.17 \n",
    "      else (-0.024594 * dP ^ 2) + 1.29678 * dP + 84.081 \n",
    "    else if RPM == 6000 then \n",
    "      if dP < 33.71 then 120.83 \n",
    "      else (-0.012153 * dP ^ 2) + 0.81934 * dP + 107.02 \n",
    "    else if RPM == 7000 then \n",
    "      if dP < 78.76 then 136.57 \n",
    "      else (-0.013720 * dP ^ 2) + 2.1611 * dP + 51.474 \n",
    "    else if RPM == 8000 then \n",
    "      if dP < 63.73 then 166.28 \n",
    "      else (-0.0055313 * dP ^ 2) + 0.70504 * dP + 143.71 \n",
    "    else if dP < 93.82 then 178.95 \n",
    "    else (-0.0042916 * dP ^ 2) + 0.80525 * dP + 141.18\n",
    "  );\n",
    "```\n",
    "\n"
   ]
  },
  {
   "cell_type": "markdown",
   "metadata": {},
   "source": [
    "* there is an `if` for each RPM level\n",
    "    * for each RPM level, we test whether `dP` is smaller than the critical value"
   ]
  },
  {
   "cell_type": "code",
   "execution_count": null,
   "metadata": {},
   "outputs": [],
   "source": [
    "def format_to_modelica(coefs_dict, indent='  ', error_value='10000'):\n",
    "    def format_level(speed, coefs, indent):\n",
    "        x_crit, y_crit = compute_critical_values(coefs)\n",
    "        t = f'if RPM == {speed} then\\n{indent}'\n",
    "        t += 'if dP < {:.4} then {:.4}\\n{}'.format(x_crit, y_crit, indent)\n",
    "        t += 'else ( {:.6} * dP ^ 2 ) + {:.6} * dP + {:.6}'.format(*coefs)\n",
    "        return t\n",
    "    \n",
    "    speeds = sorted(list(coefs_dict))\n",
    "    # Special case: 1st if\n",
    "    ifelse = format_level(speeds[0], coefs_dict[speeds[0]], indent)\n",
    "    # Else if\n",
    "    for s in speeds[1:]:\n",
    "        ifelse += '\\n' + 'else ' + format_level(s, coefs_dict[s], indent)\n",
    "    # Last else: non-existing RPM value\n",
    "    ifelse += '\\nelse ' + error_value\n",
    "    \n",
    "    # Reindent\n",
    "    ifelse = '\\n'.join(indent*2 + line for line in ifelse.split('\\n'))\n",
    "    \n",
    "    # Wrap around max function\n",
    "    ifelse = indent + 'Q = max(0,\\n' + ifelse + '\\n' + indent + ');'\n",
    "    \n",
    "    return ifelse"
   ]
  },
  {
   "cell_type": "code",
   "execution_count": null,
   "metadata": {},
   "outputs": [],
   "source": [
    "to_modelica = {\n",
    "    speed: interp_curve(coefs_rev, speed)\n",
    "    for speed in range(2000, 8100, 100)\n",
    "}\n",
    "to_modelica.update(coefs_rev)\n",
    "print(list(to_modelica))"
   ]
  },
  {
   "cell_type": "code",
   "execution_count": null,
   "metadata": {},
   "outputs": [],
   "source": [
    "print(format_to_modelica(to_modelica))"
   ]
  }
 ],
 "metadata": {
  "kernelspec": {
   "display_name": "Python 3",
   "language": "python",
   "name": "python3"
  },
  "language_info": {
   "codemirror_mode": {
    "name": "ipython",
    "version": 3
   },
   "file_extension": ".py",
   "mimetype": "text/x-python",
   "name": "python",
   "nbconvert_exporter": "python",
   "pygments_lexer": "ipython3",
   "version": "3.7.7"
  },
  "toc": {
   "base_numbering": 1,
   "nav_menu": {},
   "number_sections": true,
   "sideBar": true,
   "skip_h1_title": false,
   "title_cell": "Table of Contents",
   "title_sidebar": "Contents",
   "toc_cell": false,
   "toc_position": {},
   "toc_section_display": true,
   "toc_window_display": false
  },
  "varInspector": {
   "cols": {
    "lenName": 16,
    "lenType": 16,
    "lenVar": 40
   },
   "kernels_config": {
    "python": {
     "delete_cmd_postfix": "",
     "delete_cmd_prefix": "del ",
     "library": "var_list.py",
     "varRefreshCmd": "print(var_dic_list())"
    },
    "r": {
     "delete_cmd_postfix": ") ",
     "delete_cmd_prefix": "rm(",
     "library": "var_list.r",
     "varRefreshCmd": "cat(var_dic_list()) "
    }
   },
   "types_to_exclude": [
    "module",
    "function",
    "builtin_function_or_method",
    "instance",
    "_Feature"
   ],
   "window_display": false
  }
 },
 "nbformat": 4,
 "nbformat_minor": 4
}
