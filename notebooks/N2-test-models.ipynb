{
 "cells": [
  {
   "cell_type": "markdown",
   "metadata": {},
   "source": [
    "# Introduction\n",
    "\n",
    "Compare the model for HMIII with and without regulation."
   ]
  },
  {
   "cell_type": "markdown",
   "metadata": {},
   "source": [
    "# No autoregulation\n",
    "\n",
    "Method: set the following parameters to zero:\n",
    "\n",
    "```\n",
    "Param_AutoregulationCenter_fes0\n",
    "Param_AutoregulationCenter_fesinf\n",
    "Param_AutoregulationCenter_fesmin\n",
    "Param_AutoregulationCenter_fev0\n",
    "Param_AutoregulationCenter_fevinf\n",
    "```"
   ]
  },
  {
   "cell_type": "markdown",
   "metadata": {},
   "source": [
    "Image: Aortic valve flow rate, Ursino1998Model, no LVAD, no autoregulation (the parameters shown above are set to 0)\n",
    "\n",
    "<img src=\"../res/Ursino1998Model_no_LVAD_no_regul.png\" style=\"width:50%\" />"
   ]
  },
  {
   "cell_type": "markdown",
   "metadata": {},
   "source": [
    "# Regulation"
   ]
  }
 ],
 "metadata": {
  "kernelspec": {
   "display_name": "Python 3",
   "language": "python",
   "name": "python3"
  },
  "language_info": {
   "codemirror_mode": {
    "name": "ipython",
    "version": 3
   },
   "file_extension": ".py",
   "mimetype": "text/x-python",
   "name": "python",
   "nbconvert_exporter": "python",
   "pygments_lexer": "ipython3",
   "version": "3.7.3"
  },
  "toc": {
   "base_numbering": 1,
   "nav_menu": {},
   "number_sections": true,
   "sideBar": true,
   "skip_h1_title": false,
   "title_cell": "Table of Contents",
   "title_sidebar": "Contents",
   "toc_cell": false,
   "toc_position": {},
   "toc_section_display": true,
   "toc_window_display": false
  }
 },
 "nbformat": 4,
 "nbformat_minor": 2
}
