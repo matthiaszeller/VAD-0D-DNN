{
 "cells": [
  {
   "cell_type": "code",
   "execution_count": 9,
   "metadata": {},
   "outputs": [],
   "source": [
    "import numpy as np\n",
    "from buildingspy.io.outputfile import Reader\n",
    "import matplotlib.pyplot as plt\n",
    "import scipy.io as sio"
   ]
  },
  {
   "cell_type": "markdown",
   "metadata": {},
   "source": [
    "# Introduction\n",
    "\n",
    "## Aim\n",
    "\n",
    "Change the data reduction method before DNN training.\n",
    "\n",
    "## Context\n",
    "\n",
    "Once pre-processing is completed, we have the tensor `X.mat` of Fourier coefficients for 2 signals: pulmonary artery pressure and systemic artery pressure. Currently, we train the DNN with a reduced amount of coefficients by defining the percentage of coefficients we retain and by applying the following algorithm (line 215, `utils_deeplearning.py`, commit `add1526`):"
   ]
  },
  {
   "cell_type": "code",
   "execution_count": null,
   "metadata": {},
   "outputs": [],
   "source": [
    "if (perccoef < 0.99999):\n",
    "    if nfrequencies % 2 == 0:\n",
    "        aks = (nfrequencies + 2) / 2\n",
    "        bks = aks - 2\n",
    "    else:\n",
    "        aks = (nfrequencies + 1) / 2\n",
    "        bks = aks - 1\n",
    "    aks = int(aks)\n",
    "    selectedaks = int(np.floor(aks * perccoef))\n",
    "    indicestoselect = list(range(0, selectedaks)) + list(range(aks, aks + selectedaks - 1))\n",
    "    X = np.take(X, indicestoselect, axis=2)\n",
    "    nfrequencies = X.shape[2]"
   ]
  },
  {
   "cell_type": "markdown",
   "metadata": {},
   "source": [
    "Implementation of the Artificial Pulse feature of HMIII required to run simulations over a longer simulation time in order to have stabilized values. We want to consider the same time window (the last 10 seconds of the simulation) and account for the fact that the number of coefficients is not necessarily the same between two different simulations. That occurs when we change the time discretization parameters of the simulation, i.e. the simulation time ($T_{sim}$) and the number of intervals ($N$). If the ratio $T_{sim} / N$ changes, then the number of data points is not constant, and the number of Fourier coefficients is also not the same. "
   ]
  },
  {
   "cell_type": "markdown",
   "metadata": {},
   "source": [
    "# Implementation of alternative data reduction method"
   ]
  },
  {
   "cell_type": "markdown",
   "metadata": {},
   "source": [
    "## Mathematical background\n",
    "\n",
    "We first compute the complex Fourier coefficients $c_k$ according to the Fast Fourier Transform algorithm. We can reconstruct the original signal with the formula"
   ]
  },
  {
   "cell_type": "markdown",
   "metadata": {},
   "source": [
    "$$\n",
    "\\tilde f(x) = \\sum_{k=-(M+\\mu)}^{M+\\mu} c_k e^{ikx}\n",
    "$$"
   ]
  },
  {
   "cell_type": "markdown",
   "metadata": {},
   "source": [
    "With $\\mu$ being 0 if $n$ is even, and 1 if $n$ is odd; $M = (n - \\mu)/2$."
   ]
  },
  {
   "cell_type": "markdown",
   "metadata": {},
   "source": [
    "## Computational background\n",
    "\n",
    "We rather store and compute the coefficients $a_k$, $b_k$:\n",
    "\n",
    "$$\n",
    "a_k = c_k + c_{-k}\n",
    "$$\n",
    "$$\n",
    "b_k = i(c_k - c_{-k})\n",
    "$$"
   ]
  },
  {
   "cell_type": "markdown",
   "metadata": {},
   "source": [
    "All values are stored in a 3D-tensor $X[i, j, k]$, where\n",
    "\n",
    "* $i$ denotes the sample number (one of the ten thousand simulations)\n",
    "* $j$ denotes the index of the input variable (SAP or PAP)\n",
    "* $k$ denotes the index for the coefficients, i.e. $X[i, j, :] = \\{ a_0, a_1, \\dots, a_l, b_1, b_2, \\dots, b_l \\}$"
   ]
  },
  {
   "cell_type": "markdown",
   "metadata": {},
   "source": [
    "The coefficient $b_0$ was discarded during pre-processing since it is always 0."
   ]
  },
  {
   "cell_type": "markdown",
   "metadata": {},
   "source": [
    "### Reconstruction algorithm\n"
   ]
  },
  {
   "cell_type": "code",
   "execution_count": 1,
   "metadata": {},
   "outputs": [],
   "source": [
    "def reconstruct(aks, bks, t, T):\n",
    "    x = t * 0 + aks[0] / 2\n",
    "    for k in range(1, len(aks)):\n",
    "        x += aks[k] * np.cos(2*np.pi*t * k / T) + \\\n",
    "             bks[k] * np.sin(2*np.pi*t * k / T)\n",
    "    return x"
   ]
  },
  {
   "cell_type": "markdown",
   "metadata": {},
   "source": [
    "## Load simulation data\n",
    "\n"
   ]
  },
  {
   "cell_type": "code",
   "execution_count": 3,
   "metadata": {},
   "outputs": [],
   "source": [
    "folder = '/media/maousi/Data/tmp/simulations_2020_03_21/outputs/'\n",
    "file = 'Ursino1998Model_VAD2_output_1003.mat'"
   ]
  },
  {
   "cell_type": "code",
   "execution_count": 4,
   "metadata": {},
   "outputs": [],
   "source": [
    "reader = Reader(folder+file, 'dymola')"
   ]
  },
  {
   "cell_type": "code",
   "execution_count": 5,
   "metadata": {},
   "outputs": [],
   "source": [
    "t, signal = reader.values('SystemicArteries.PC')"
   ]
  },
  {
   "cell_type": "code",
   "execution_count": 8,
   "metadata": {},
   "outputs": [
    {
     "data": {
      "image/png": "[encoded data removed]",
      "text/plain": [
       "<Figure size 432x288 with 1 Axes>"
      ]
     },
     "metadata": {
      "needs_background": "light"
     },
     "output_type": "display_data"
    }
   ],
   "source": [
    "plt.plot(t, signal);"
   ]
  },
  {
   "cell_type": "markdown",
   "metadata": {},
   "source": [
    "## Load DNN input data"
   ]
  },
  {
   "cell_type": "code",
   "execution_count": 12,
   "metadata": {},
   "outputs": [],
   "source": [
    "folder_X = folder + '../'"
   ]
  },
  {
   "cell_type": "code",
   "execution_count": 15,
   "metadata": {},
   "outputs": [
    {
     "data": {
      "text/plain": [
       "(10000, 2, 250)"
      ]
     },
     "execution_count": 15,
     "metadata": {},
     "output_type": "execute_result"
    }
   ],
   "source": [
    "X = sio.loadmat(folder_X+'X.mat')['X']\n",
    "X.shape"
   ]
  },
  {
   "cell_type": "code",
   "execution_count": 17,
   "metadata": {},
   "outputs": [
    {
     "data": {
      "text/plain": [
       "[<matplotlib.lines.Line2D at 0x7f87ffa02910>]"
      ]
     },
     "execution_count": 17,
     "metadata": {},
     "output_type": "execute_result"
    },
    {
     "data": {
      "image/png": "[encoded data removed]",
      "text/plain": [
       "<Figure size 432x288 with 1 Axes>"
      ]
     },
     "metadata": {
      "needs_background": "light"
     },
     "output_type": "display_data"
    }
   ],
   "source": [
    "plt.plot(X[0, 0, :])"
   ]
  },
  {
   "cell_type": "code",
   "execution_count": 52,
   "metadata": {},
   "outputs": [],
   "source": [
    "def get_b1_index(array_length):\n",
    "    if array_length % 2 == 0:\n",
    "        return int((array_length + 2) / 2)\n",
    "    return int((array_length + 1)/2)"
   ]
  },
  {
   "cell_type": "code",
   "execution_count": 57,
   "metadata": {},
   "outputs": [],
   "source": [
    "nfreq = X.shape[2]\n",
    "b1_i = get_b1_index(nfreq)"
   ]
  },
  {
   "cell_type": "code",
   "execution_count": 66,
   "metadata": {},
   "outputs": [
    {
     "data": {
      "text/plain": [
       "array([181.10259117,  -0.86442602])"
      ]
     },
     "execution_count": 66,
     "metadata": {},
     "output_type": "execute_result"
    }
   ],
   "source": [
    "X[:, 0, 0:2].mean(axis=0)"
   ]
  },
  {
   "cell_type": "code",
   "execution_count": 71,
   "metadata": {},
   "outputs": [
    {
     "data": {
      "text/plain": [
       "<matplotlib.collections.PathCollection at 0x7f87fd111150>"
      ]
     },
     "execution_count": 71,
     "metadata": {},
     "output_type": "execute_result"
    },
    {
     "data": {
      "image/png": "[encoded data removed]",
      "text/plain": [
       "<Figure size 432x288 with 1 Axes>"
      ]
     },
     "metadata": {
      "needs_background": "light"
     },
     "output_type": "display_data"
    }
   ],
   "source": [
    "plt.scatter(range(1, b1_i), X[:, 0, 1:b1_i].mean(axis=0))"
   ]
  },
  {
   "cell_type": "code",
   "execution_count": 69,
   "metadata": {},
   "outputs": [
    {
     "data": {
      "text/plain": [
       "[<matplotlib.lines.Line2D at 0x7f87fd3520d0>]"
      ]
     },
     "execution_count": 69,
     "metadata": {},
     "output_type": "execute_result"
    },
    {
     "data": {
      "image/png": "[encoded data removed]",
      "text/plain": [
       "<Figure size 432x288 with 1 Axes>"
      ]
     },
     "metadata": {
      "needs_background": "light"
     },
     "output_type": "display_data"
    }
   ],
   "source": [
    "plt.plot(X[:, 0, b1_i:].mean(axis=0))"
   ]
  },
  {
   "cell_type": "code",
   "execution_count": null,
   "metadata": {},
   "outputs": [],
   "source": []
  },
  {
   "cell_type": "code",
   "execution_count": 95,
   "metadata": {},
   "outputs": [],
   "source": [
    "aks = x[:126]\n",
    "bks = x[126:]\n",
    "bks = np.append([0], bks)\n",
    "bks = np.append(bks, [0])# bks is lacking 1 element ????"
   ]
  },
  {
   "cell_type": "code",
   "execution_count": 101,
   "metadata": {},
   "outputs": [],
   "source": [
    "aks = x[:30]\n",
    "bks = x[126:155]\n",
    "bks = np.append([0], bks)"
   ]
  },
  {
   "cell_type": "code",
   "execution_count": 102,
   "metadata": {},
   "outputs": [],
   "source": [
    "t = np.linspace(0, 10, 1000)\n",
    "sig = reconstruct(aks, bks, t, 10)"
   ]
  },
  {
   "cell_type": "code",
   "execution_count": 103,
   "metadata": {},
   "outputs": [
    {
     "data": {
      "text/plain": [
       "[<matplotlib.lines.Line2D at 0x7f87fcebf610>]"
      ]
     },
     "execution_count": 103,
     "metadata": {},
     "output_type": "execute_result"
    },
    {
     "data": {
      "image/png": "[encoded data removed]",
      "text/plain": [
       "<Figure size 432x288 with 1 Axes>"
      ]
     },
     "metadata": {
      "needs_background": "light"
     },
     "output_type": "display_data"
    }
   ],
   "source": [
    "plt.plot(t, sig)"
   ]
  },
  {
   "cell_type": "code",
   "execution_count": null,
   "metadata": {},
   "outputs": [],
   "source": [
    "X[:, 0, :]"
   ]
  },
  {
   "cell_type": "markdown",
   "metadata": {},
   "source": [
    "# Algo"
   ]
  },
  {
   "cell_type": "code",
   "execution_count": 85,
   "metadata": {},
   "outputs": [],
   "source": [
    "def get_b1_index(array_length):\n",
    "    if array_length % 2 == 0:\n",
    "        return int((array_length + 2) / 2)\n",
    "    return int((array_length + 1)/2)\n",
    "\n",
    "def reduce(perc, array_length, selectedaks = None):\n",
    "    \"\"\"Return a list of indices (i.e. use them by applying np.take).\n",
    "    You can choose the extent of data reduction with:\n",
    "    - perc: percentage of coefficients to keep\n",
    "    - selectedaks: impose a given number of ak coefficients\n",
    "    Note that in both cases, there is one additional ak returned (b0=0, a0 =/= 0)\n",
    "    \"\"\"\n",
    "    # b1_id = index of b1 coeff = number of aks\n",
    "    b1_id = get_b1_index(array_length)\n",
    "    \n",
    "    if selectedaks is None:\n",
    "        selectedaks = int(np.floor(b1_id * perc))\n",
    "    indicestoselect = list(range(0, selectedaks)) + list(range(b1_id, b1_id + selectedaks - 1))\n",
    "    return indicestoselect"
   ]
  },
  {
   "cell_type": "code",
   "execution_count": 86,
   "metadata": {},
   "outputs": [],
   "source": [
    "nfreq = X.shape[2]\n",
    "id_select = reduce(0.05, nfreq)"
   ]
  },
  {
   "cell_type": "code",
   "execution_count": 87,
   "metadata": {},
   "outputs": [
    {
     "data": {
      "text/plain": [
       "[0, 1, 2, 3, 4, 5, 126, 127, 128, 129, 130]"
      ]
     },
     "execution_count": 87,
     "metadata": {},
     "output_type": "execute_result"
    }
   ],
   "source": [
    "id_select"
   ]
  },
  {
   "cell_type": "code",
   "execution_count": 91,
   "metadata": {},
   "outputs": [
    {
     "data": {
      "text/plain": [
       "[0, 1, 2, 3, 4, 5, 126, 127, 128, 129, 130]"
      ]
     },
     "execution_count": 91,
     "metadata": {},
     "output_type": "execute_result"
    }
   ],
   "source": [
    "# Now we impose to take a certain number of aks\n",
    "reduce(None, nfreq, 6)"
   ]
  },
  {
   "cell_type": "code",
   "execution_count": 104,
   "metadata": {},
   "outputs": [
    {
     "data": {
      "text/plain": [
       "[0, 1, 126]"
      ]
     },
     "execution_count": 104,
     "metadata": {},
     "output_type": "execute_result"
    }
   ],
   "source": [
    "reduce(None, nfreq, 2)"
   ]
  },
  {
   "cell_type": "code",
   "execution_count": 106,
   "metadata": {},
   "outputs": [
    {
     "data": {
      "text/plain": [
       "(10000, 2, 667)"
      ]
     },
     "execution_count": 106,
     "metadata": {},
     "output_type": "execute_result"
    }
   ],
   "source": [
    "folder2 = '/media/maousi/Data/tmp/simulation_LVAD_RPM4000_Pulse_T30_N2000_2020_04_26/'\n",
    "X2 = sio.loadmat(folder2+'X.mat')['X']\n",
    "X2.shape"
   ]
  },
  {
   "cell_type": "code",
   "execution_count": 107,
   "metadata": {},
   "outputs": [
    {
     "data": {
      "text/plain": [
       "334"
      ]
     },
     "execution_count": 107,
     "metadata": {},
     "output_type": "execute_result"
    }
   ],
   "source": [
    "get_b1_index(X2.shape[2])"
   ]
  },
  {
   "cell_type": "code",
   "execution_count": 109,
   "metadata": {},
   "outputs": [
    {
     "data": {
      "text/plain": [
       "[0,\n",
       " 1,\n",
       " 2,\n",
       " 3,\n",
       " 4,\n",
       " 5,\n",
       " 6,\n",
       " 7,\n",
       " 8,\n",
       " 9,\n",
       " 10,\n",
       " 11,\n",
       " 12,\n",
       " 13,\n",
       " 14,\n",
       " 15,\n",
       " 334,\n",
       " 335,\n",
       " 336,\n",
       " 337,\n",
       " 338,\n",
       " 339,\n",
       " 340,\n",
       " 341,\n",
       " 342,\n",
       " 343,\n",
       " 344,\n",
       " 345,\n",
       " 346,\n",
       " 347,\n",
       " 348]"
      ]
     },
     "execution_count": 109,
     "metadata": {},
     "output_type": "execute_result"
    }
   ],
   "source": [
    "ids = reduce(0.05, X2.shape[2])\n",
    "ids"
   ]
  },
  {
   "cell_type": "code",
   "execution_count": 110,
   "metadata": {},
   "outputs": [
    {
     "data": {
      "text/plain": [
       "31"
      ]
     },
     "execution_count": 110,
     "metadata": {},
     "output_type": "execute_result"
    }
   ],
   "source": [
    "len(ids)"
   ]
  }
 ],
 "metadata": {
  "kernelspec": {
   "display_name": "Python 3",
   "language": "python",
   "name": "python3"
  },
  "language_info": {
   "codemirror_mode": {
    "name": "ipython",
    "version": 3
   },
   "file_extension": ".py",
   "mimetype": "text/x-python",
   "name": "python",
   "nbconvert_exporter": "python",
   "pygments_lexer": "ipython3",
   "version": "3.7.6"
  }
 },
 "nbformat": 4,
 "nbformat_minor": 4
}
