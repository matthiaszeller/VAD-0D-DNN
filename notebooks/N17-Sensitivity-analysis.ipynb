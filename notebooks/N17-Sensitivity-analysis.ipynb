{
 "cells": [
  {
   "cell_type": "code",
   "execution_count": null,
   "metadata": {},
   "outputs": [],
   "source": [
    "import matplotlib.pyplot as plt\n",
    "import seaborn as sns\n",
    "import pandas as pd\n",
    "import numpy as np\n",
    "sns.set(style='whitegrid')"
   ]
  },
  {
   "cell_type": "code",
   "execution_count": null,
   "metadata": {},
   "outputs": [],
   "source": [
    "import os\n",
    "from os.path import join"
   ]
  },
  {
   "cell_type": "markdown",
   "metadata": {},
   "source": [
    "# Introduction\n",
    "\n",
    "## Aim\n",
    "\n",
    "Compute the results of the analysis of the 0D model sensitivity analysis. In particular, implement the pipeline to extract sensitivity analysis data, save latex tables. "
   ]
  },
  {
   "cell_type": "markdown",
   "metadata": {},
   "source": [
    "## Prerequisites\n",
    "\n",
    "* Run the script `script_sensitivity_analysis.py` for several values of epsilon\n",
    "    * Run in folders with name format: `epsilon_<value>` (e.g. `epsilon_0.01`)\n",
    "* For each generated subfolders in `epsilon_<value>/`, process with the script `test_dnnmodelevaluation.m` and copy the `table.csv`, `Xexact.csv` and `Xpredicted.csv` files\n",
    "* Each `epsilon_<value>/` folder should contain the following (contents of `outputs/` directory is not shown): \n",
    "\n",
    "```\n",
    ".\n",
    "├── P0_Param_LeftVentricle_Emax0\n",
    "│   ├── outputs\n",
    "│   ├── parameters.txt\n",
    "│   ├── table.csv\n",
    "│   ├── Xexact.csv\n",
    "│   └── Xpredicted.csv\n",
    "├── P1_Param_LeftVentricle_EmaxRef0\n",
    "│   ├── outputs\n",
    "│   ├── parameters.txt\n",
    "│   ├── table.csv\n",
    "│   ├── Xexact.csv\n",
    "│   └── Xpredicted.csv\n",
    "├── P2_Param_LeftVentricle_AGain_Emax\n",
    "│   ├── outputs\n",
    "│   ├── parameters.txt\n",
    "│   ├── table.csv\n",
    "│   ├── Xexact.csv\n",
    "│   └── Xpredicted.csv\n",
    "└── P3_Param_LeftVentricle_kE\n",
    "    ├── outputs\n",
    "    ├── parameters.txt\n",
    "    ├── table.csv\n",
    "    ├── Xexact.csv\n",
    "    └── Xpredicted.csv\n",
    "```"
   ]
  },
  {
   "cell_type": "markdown",
   "metadata": {},
   "source": [
    "## How to use\n",
    "\n",
    "**For each value of $\\mathbf\\epsilon$, you should rerun the notebook and modify the `identifier` accordingly** (see the cell below)."
   ]
  },
  {
   "cell_type": "markdown",
   "metadata": {
    "ipub": {
     "ignore": true
    }
   },
   "source": [
    "## Setup\n",
    "\n"
   ]
  },
  {
   "cell_type": "code",
   "execution_count": null,
   "metadata": {},
   "outputs": [],
   "source": [
    "identifier = 'epsilon_0.2'\n",
    "path = f'/media/maousi/Data/tmp/sensitivity/{identifier}/'"
   ]
  },
  {
   "cell_type": "markdown",
   "metadata": {
    "ipub": {
     "ignore": true
    }
   },
   "source": [
    "# Check data\n",
    "\n",
    "## Aim\n",
    "\n",
    "Verify that simulations in each directory actually has a single varying parameter. Visualize parameters distribution."
   ]
  },
  {
   "cell_type": "code",
   "execution_count": null,
   "metadata": {},
   "outputs": [],
   "source": [
    "# Data containing values of the parameter that varies in a given folder\n",
    "param_data = {}\n",
    "\n",
    "for folder in os.listdir(path):\n",
    "    print(f'=== {folder}')\n",
    "    file = join(path, folder, 'parameters.txt')\n",
    "    # Check file contents (that indeed a single parameter varies)\n",
    "    #!head -4 $file | tail -3\n",
    "    \n",
    "    param_name = folder[folder.find('_')+1:]\n",
    "    df = pd.read_csv(file)\n",
    "    print(df.head(4).values)\n",
    "    param_data[param_name] = df[param_name].values"
   ]
  },
  {
   "cell_type": "code",
   "execution_count": null,
   "metadata": {},
   "outputs": [],
   "source": [
    "fig, axes = plt.subplots(1, len(param_data), figsize=(16,5))\n",
    "\n",
    "paramslatex = dict(zip(param_data.keys(), ['$E_{max,lv}$', '$E_{max,lv,0}$', '$G_{E_{max,lv}}$', '$k_{E,lv}$']))\n",
    "for p, ax in zip(param_data, axes):\n",
    "    sns.distplot(param_data[p], ax=ax, norm_hist=True)\n",
    "    ax.set_title(paramslatex[p])"
   ]
  },
  {
   "cell_type": "markdown",
   "metadata": {},
   "source": [
    "# Extract values"
   ]
  },
  {
   "cell_type": "code",
   "execution_count": null,
   "metadata": {},
   "outputs": [],
   "source": [
    "# Define utility function to format results table\n",
    "def format_table(table):\n",
    "    table.index = [\n",
    "        'Min exact', 'Max exact', 'Mean exact', 'SD exact', 'Min pred', \n",
    "        'Max pred', 'Mean pred', 'SD pred', 'Avg err mx', \n",
    "        'Avg rel err%', 'SD error', 'CI min', 'CI max',\n",
    "    ]\n",
    "    table.columns = [\n",
    "        'HR','SAPM','SAPS','SAPD', 'PAPM','PAPS','PAPD','LVEF',\n",
    "        'LVEDV', 'LVESV', 'CI', 'PCPW'\n",
    "    ]\n",
    "    table.CI = table.CI.apply(np.abs)\n",
    "    cols = {'Min exact': 'Min', 'Max exact': 'Max', 'Mean exact': 'Mean', 'SD exact': 'SD'}\n",
    "    table = table.loc[list(cols.keys()), :]\n",
    "    table = table.rename(cols)\n",
    "    #table.index = table.index.set_levels(['Emax0','EmaxRef0','GainEmax','kE'], level=0)\n",
    "    #table.index = ['Emax0','EmaxRef0','GainEmax','kE']\n",
    "    #table.index.rename({'Param_LeftVentricle_Emax0':'test'}, inplace=True, level=0)\n",
    "    return table"
   ]
  },
  {
   "cell_type": "code",
   "execution_count": null,
   "metadata": {},
   "outputs": [],
   "source": [
    "raw = {}\n",
    "for folder in os.listdir(path):\n",
    "    file = join(path, folder, 'table.csv')\n",
    "    print(file)\n",
    "    df = pd.read_csv(file, header=None)\n",
    "    df = format_table(df)\n",
    "    param_name = folder[folder.find('_')+1:]\n",
    "    raw[param_name] = df"
   ]
  },
  {
   "cell_type": "code",
   "execution_count": null,
   "metadata": {},
   "outputs": [],
   "source": [
    "df = pd.concat(raw)\n",
    "df.index = df.index.set_levels(['$E_{max,lv}$', '$E_{max,lv,0}$', \n",
    "                                '$G_{E_{max,lv}}$', '$k_{E,lv}$'], level=0)\n",
    "df"
   ]
  },
  {
   "cell_type": "code",
   "execution_count": null,
   "metadata": {},
   "outputs": [],
   "source": [
    "df.to_latex(f'data/sensitivity_analysis_{identifier}.tex', float_format=\"%.4g\", \n",
    "            multirow=True, escape=False, caption=identifier)#, longtable=True)"
   ]
  },
  {
   "cell_type": "markdown",
   "metadata": {},
   "source": [
    "# Plot parameter distribution\n",
    "\n"
   ]
  },
  {
   "cell_type": "code",
   "execution_count": null,
   "metadata": {},
   "outputs": [],
   "source": [
    "path = '/media/maousi/Data/tmp/sensitivity'\n",
    "params = []\n",
    "# For each value of epsilon\n",
    "for folder in os.listdir(path):\n",
    "    print(folder)\n",
    "    # Extract epsilon value\n",
    "    epsilon = folder.split('_')[-1]\n",
    "    epsilon = float(epsilon)\n",
    "    print(epsilon)\n",
    "    # For each 0D model parameter\n",
    "    dfepsilon = []\n",
    "    for subfolder in os.listdir(join(path, folder)):\n",
    "        print(subfolder)\n",
    "        # Extract parameter name\n",
    "        param = subfolder[3:]\n",
    "        print(param)\n",
    "        # Read parameters.txt file\n",
    "        pathtmp = join(path, folder, subfolder)\n",
    "        print(os.listdir(join(path, folder, subfolder)))\n",
    "        dftmp = pd.read_csv(join(pathtmp, 'parameters.txt'))\n",
    "        print(param in dftmp.columns)\n",
    "        # Extract the column of the varying parameter\n",
    "        dfepsilon.append(dftmp[param])\n",
    "    \n",
    "    # Merge the parameter values for a given epsilon\n",
    "    dfepsilon = pd.DataFrame(dfepsilon).transpose()\n",
    "    # Spefiy the value of epsilon\n",
    "    dfepsilon['epsilon'] = epsilon\n",
    "    params.append(dfepsilon)\n",
    "\n",
    "# Merge everything\n",
    "params = pd.concat(params, ignore_index=True)"
   ]
  },
  {
   "cell_type": "code",
   "execution_count": null,
   "metadata": {},
   "outputs": [],
   "source": [
    "names = [p for p in params.columns if p != 'epsilon']\n",
    "names = list(zip(names, ['$E_{max,lv}$', '$E_{max,lv,0}$', '$G_{E_{max,lv}}$', '$k_{E,lv}$']))\n",
    "names"
   ]
  },
  {
   "cell_type": "code",
   "execution_count": null,
   "metadata": {},
   "outputs": [],
   "source": [
    "epsilons = params.epsilon.unique()\n",
    "epsilons"
   ]
  },
  {
   "cell_type": "code",
   "execution_count": null,
   "metadata": {},
   "outputs": [],
   "source": [
    "fig, axes = plt.subplots(2, 2, figsize=(10, 8))\n",
    "axes = axes.ravel()\n",
    "\n",
    "for (p, platex), ax in zip(names, axes):\n",
    "    for epsilon in epsilons:\n",
    "        sns.distplot(params.loc[params.epsilon == epsilon, p], \n",
    "                     ax=ax, hist=False, \n",
    "                     label=r'$\\epsilon = ' + str(epsilon) + '$')\n",
    "    ax.set_xlabel(platex)\n",
    "        \n",
    "plt.subplots_adjust(hspace=.35, wspace=.3)"
   ]
  }
 ],
 "metadata": {
  "kernelspec": {
   "display_name": "Python 3",
   "language": "python",
   "name": "python3"
  },
  "language_info": {
   "codemirror_mode": {
    "name": "ipython",
    "version": 3
   },
   "file_extension": ".py",
   "mimetype": "text/x-python",
   "name": "python",
   "nbconvert_exporter": "python",
   "pygments_lexer": "ipython3",
   "version": "3.7.7"
  }
 },
 "nbformat": 4,
 "nbformat_minor": 4
}
