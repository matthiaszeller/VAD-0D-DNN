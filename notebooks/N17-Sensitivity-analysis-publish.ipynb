{
 "cells": [
  {
   "cell_type": "code",
   "execution_count": null,
   "metadata": {},
   "outputs": [],
   "source": [
    "import matplotlib.pyplot as plt\n",
    "import seaborn as sns\n",
    "import pandas as pd\n",
    "import numpy as np\n",
    "from ipypublish import nb_setup\n",
    "import os\n",
    "from os.path import join\n",
    "\n",
    "# https://stackoverflow.com/a/39566040/11552622\n",
    "rcparams = {\n",
    "    'axes.titlesize':13,\n",
    "    'axes.labelsize':9,\n",
    "    'xtick.labelsize':8,\n",
    "    'ytick.labelsize':8\n",
    "}\n",
    "plt = nb_setup.setup_matplotlib(output=('pdf','svg'), rcparams=rcparams)\n",
    "pd = nb_setup.setup_pandas(escape_latex=False)\n",
    "sns.set(style='whitegrid')"
   ]
  },
  {
   "cell_type": "markdown",
   "metadata": {},
   "source": [
    "# Introduction\n",
    "\n",
    "## Aim\n",
    "\n",
    "Visualize and analyze sensitivity analysis data."
   ]
  },
  {
   "cell_type": "markdown",
   "metadata": {},
   "source": [
    "# Data check\n",
    "\n",
    "## Distribution of sensitivity analysis variables\n",
    "\n",
    "For each value of $\\epsilon$, we generate four sets of simulations - one for each variable among $E_{max,lv}$, $E_{max,lv,0}$, $G_{E_{max,lv}}$, $k_{E,lv}$. In each set:\n",
    "\n",
    "* 3 variables $P_i$ are set to the constant value $(P_{i,max} + P_{i,min})/2$, $i \\in \\{0,1,2,3\\}$\n",
    "* the last variable $P_j$ is sampled for each simulation according to the formula:\n",
    "\n",
    "$$\\frac{(P_{i,max} + P_{i,min})}{2} (1+\\epsilon x)$$\n",
    "\n",
    "* with $x$ a sample of the random variable $X \\sim \\mathcal{N}(0, 1)$, $i \\in \\{0,1,2,3\\}$"
   ]
  },
  {
   "cell_type": "code",
   "execution_count": null,
   "metadata": {},
   "outputs": [],
   "source": [
    "path = '/media/maousi/Data/tmp/sensitivity'\n",
    "params = []\n",
    "# For each value of epsilon\n",
    "for folder in os.listdir(path):\n",
    "    # Extract epsilon value\n",
    "    epsilon = folder.split('_')[-1]\n",
    "    # For each 0D model parameter\n",
    "    dfepsilon = []\n",
    "    for subfolder in os.listdir(join(path, folder)):\n",
    "        # Extract parameter name\n",
    "        param = subfolder[3:]\n",
    "        # Read parameters.txt file\n",
    "        pathtmp = join(path, folder, subfolder)\n",
    "        dftmp = pd.read_csv(join(pathtmp, 'parameters.txt'))\n",
    "        # Extract the column of the varying parameter\n",
    "        dfepsilon.append(dftmp[param])\n",
    "    \n",
    "    # Merge the parameter values for a given epsilon\n",
    "    dfepsilon = pd.DataFrame(dfepsilon).transpose()\n",
    "    # Spefiy the value of epsilon\n",
    "    dfepsilon['epsilon'] = epsilon\n",
    "    params.append(dfepsilon)\n",
    "\n",
    "# Merge everything\n",
    "params = pd.concat(params, ignore_index=True)"
   ]
  },
  {
   "cell_type": "code",
   "execution_count": null,
   "metadata": {},
   "outputs": [],
   "source": [
    "params.describe()"
   ]
  },
  {
   "cell_type": "code",
   "execution_count": null,
   "metadata": {},
   "outputs": [],
   "source": [
    "param_dic = dict(zip(params, ['$E_{max,lv}$', '$E_{max,lv,0}$', '$G_{E_{max,lv}}$', '$k_{E,lv}$']))\n",
    "param_dic"
   ]
  },
  {
   "cell_type": "code",
   "execution_count": null,
   "metadata": {
    "ipub": {
     "table": {
      "alternate": "gray!20",
      "caption": "Summary statistics of the sensitivity analysis. Only the variables that vary are shown.",
      "label": "tbl:tlabel",
      "placement": "H"
     }
    }
   },
   "outputs": [],
   "source": [
    "summary = params.rename(columns=param_dic)\n",
    "summary = summary.groupby('epsilon').describe().transpose()\n",
    "summary = summary.loc[ (slice(None), ('min', '50%', 'max', 'std')), : ]\n",
    "summary.rename(index={'50%':'mean'})"
   ]
  },
  {
   "cell_type": "code",
   "execution_count": null,
   "metadata": {},
   "outputs": [],
   "source": [
    "names = [p for p in params.columns if p != 'epsilon']\n",
    "names = list(zip(names, \n",
    "                 ['$E_{max,lv}$', '$E_{max,lv,0}$', '$G_{E_{max,lv}}$', '$k_{E,lv}$'], \n",
    "                 [(0.2, 2.95), (0.2, 2.392), (0.2, 0.475), (0.011, 0.014)]\n",
    "                 ))\n",
    "names"
   ]
  },
  {
   "cell_type": "code",
   "execution_count": null,
   "metadata": {},
   "outputs": [],
   "source": [
    "epsilons = params.epsilon.unique()\n",
    "epsilons"
   ]
  },
  {
   "cell_type": "code",
   "execution_count": null,
   "metadata": {},
   "outputs": [],
   "source": [
    "#summary = "
   ]
  },
  {
   "cell_type": "code",
   "execution_count": null,
   "metadata": {
    "ipub": {
     "figure": {
      "caption": "",
      "label": "fig:sensitivity_var_dist"
     }
    }
   },
   "outputs": [],
   "source": [
    "fig, axes = plt.subplots(2, 2, figsize=(10, 8))\n",
    "axes = axes.ravel()\n",
    "\n",
    "for (p, platex, (min_, max_)), ax in zip(names, axes):\n",
    "    for epsilon in epsilons:\n",
    "        sns.distplot(params.loc[params.epsilon == epsilon, p], \n",
    "                     ax=ax, hist=False, \n",
    "                     label=r'$\\epsilon = ' + str(epsilon) + '$')\n",
    "    ax.set_xlabel(platex)\n",
    "    ax.set_ylabel('Density')\n",
    "    ax.grid(alpha=.7)\n",
    "    ax.axvline(min_, ls='--', color='grey')\n",
    "    ax.axvline(max_, ls='--', color='grey')\n",
    "        \n",
    "plt.subplots_adjust(hspace=.35, wspace=.3)\n",
    "plt.savefig('figs/sensitivity_var_distrib.eps')"
   ]
  },
  {
   "cell_type": "markdown",
   "metadata": {
    "ipub": {
     "caption": "fig:sensitivity_var_dist"
    }
   },
   "source": [
    "Distribution of the variables that vary (i.e. not fixed) during the sensitivity analysis. Each curve estimates the gaussian kernel distribution of 100 simulation samples generated by fixing three parameters while the fourth one varies. Each subplots shows the distribution of the non-fixed variable for different values of epsilon."
   ]
  },
  {
   "cell_type": "markdown",
   "metadata": {},
   "source": [
    "# Summary tables"
   ]
  },
  {
   "cell_type": "markdown",
   "metadata": {
    "ipub": {
     "ignore": true
    }
   },
   "source": [
    "**MANUALLY IMPORT THE LATEX FILES HERE, AFTER USING NBPUBLISH**. "
   ]
  }
 ],
 "metadata": {
  "ipub": {
   "figure": {
    "placement": "H"
   },
   "listfigures": true,
   "listtables": true,
   "table": {
    "placement": "H"
   },
   "titlepage": {
    "author": "Matthias Zeller",
    "subtitle": "",
    "title": "Sensitivity analysis"
   },
   "toc": true
  },
  "kernelspec": {
   "display_name": "Python 3",
   "language": "python",
   "name": "python3"
  },
  "language_info": {
   "codemirror_mode": {
    "name": "ipython",
    "version": 3
   },
   "file_extension": ".py",
   "mimetype": "text/x-python",
   "name": "python",
   "nbconvert_exporter": "python",
   "pygments_lexer": "ipython3",
   "version": "3.7.7"
  }
 },
 "nbformat": 4,
 "nbformat_minor": 4
}
