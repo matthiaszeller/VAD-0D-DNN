{
 "cells": [
  {
   "cell_type": "code",
   "execution_count": 9,
   "metadata": {},
   "outputs": [],
   "source": [
    "import pandas as pd\n",
    "import numpy as np"
   ]
  },
  {
   "cell_type": "markdown",
   "metadata": {},
   "source": [
    "# Introduction\n",
    "\n",
    "#### Aim\n",
    "\n",
    "Assemble outputs of different scripts and compare them.\n",
    "\n",
    "#### Overview\n",
    "\n",
    "Here are the scripts for post-processing:"
   ]
  },
  {
   "cell_type": "code",
   "execution_count": 4,
   "metadata": {},
   "outputs": [
    {
     "name": "stdout",
     "output_type": "stream",
     "text": [
      "../Post-processing_Code/createdataforanalysis.m\n",
      "../Post-processing_Code/heartrate.m\n",
      "../Post-processing_Code/leftventricularejectionfraction.m\n",
      "../Post-processing_Code/meanintegral.m\n",
      "../Post-processing_Code/meanpressure.m\n",
      "../Post-processing_Code/ScriptDataTreatment.m\n",
      "../Post-processing_Code/setupproj.m\n",
      "../Post-processing_Code/test_dnnmodelevaluation.m\n",
      "../Post-processing_Code/test_plotstageheartfailure.m\n",
      "../Post-processing_Code/test_resultscomparison.m\n",
      "../Post-processing_Code/test_statisticalanalysis.m\n",
      "../Post-processing_Code/test_visualization.m\n"
     ]
    }
   ],
   "source": [
    "!ls ../Post-processing_Code/*.m"
   ]
  },
  {
   "cell_type": "markdown",
   "metadata": {},
   "source": [
    "# Results\n",
    "\n",
    "## Scripts processing a single file (as a test)\n",
    "\n",
    "### References\n",
    "\n",
    "* Git: everything launched after commit `e926eaf`\n",
    "* Simulation data: folder `simulations_2020_03_21/`\n",
    "* DNN test data: folder `dnn_test_2020_04_12/`\n",
    "* Output file number for DNN test data: 120 (i.e. look at `.mat` files having 120 as suffix)\n",
    "\n",
    "### Parameters of this specific simulation"
   ]
  },
  {
   "cell_type": "code",
   "execution_count": 11,
   "metadata": {},
   "outputs": [],
   "source": [
    "N_output_DNN_test = 120\n",
    "path = '/media/maousi/Data/tmp/simulations_2020_03_21/dnn/'\n",
    "param_order = ['Param_LeftVentricle_Emax0', 'Param_LeftVentricle_EmaxRef0',\n",
    "               'Param_LeftVentricle_AGain_Emax', 'Param_LeftVentricle_kE']"
   ]
  },
  {
   "cell_type": "code",
   "execution_count": 12,
   "metadata": {},
   "outputs": [],
   "source": [
    "Ytest_exact = np.loadtxt(path + 'Ytest.txt')\n",
    "Ytest_pred = np.loadtxt(path + 'Ytestpred.txt')"
   ]
  },
  {
   "cell_type": "code",
   "execution_count": 13,
   "metadata": {},
   "outputs": [
    {
     "name": "stdout",
     "output_type": "stream",
     "text": [
      "Simulation with exact parameters\n"
     ]
    },
    {
     "data": {
      "text/plain": [
       "{'Param_LeftVentricle_Emax0': 2.0478215677800353,\n",
       " 'Param_LeftVentricle_EmaxRef0': 0.8912712571425033,\n",
       " 'Param_LeftVentricle_AGain_Emax': 0.4114901275774935,\n",
       " 'Param_LeftVentricle_kE': 0.012895673132030418}"
      ]
     },
     "execution_count": 13,
     "metadata": {},
     "output_type": "execute_result"
    }
   ],
   "source": [
    "print('Simulation with exact parameters')\n",
    "dict(zip(param_order, Ytest_exact[N_output_DNN_test]))"
   ]
  },
  {
   "cell_type": "code",
   "execution_count": 14,
   "metadata": {},
   "outputs": [
    {
     "name": "stdout",
     "output_type": "stream",
     "text": [
      "Simulation with predicted parameters\n"
     ]
    },
    {
     "data": {
      "text/plain": [
       "{'Param_LeftVentricle_Emax0': 1.996055245399475,\n",
       " 'Param_LeftVentricle_EmaxRef0': 0.8198835849761963,\n",
       " 'Param_LeftVentricle_AGain_Emax': 0.42413219809532166,\n",
       " 'Param_LeftVentricle_kE': 0.01285417377948761}"
      ]
     },
     "execution_count": 14,
     "metadata": {},
     "output_type": "execute_result"
    }
   ],
   "source": [
    "print('Simulation with predicted parameters')\n",
    "dict(zip(param_order, Ytest_pred[N_output_DNN_test]))"
   ]
  },
  {
   "cell_type": "markdown",
   "metadata": {},
   "source": [
    "### `test_resultscomparison.m` \n",
    "\n",
    "![restultscomparison output](img/3b830b1_simulation_2020_03_21_postprocessing_test_resultscomparison_N120.png)"
   ]
  },
  {
   "cell_type": "markdown",
   "metadata": {},
   "source": [
    "### `test_visualization.m`\n",
    "\n",
    "#### Plots\n",
    "\n",
    "![test visualization output](img/e926eaf_simulation_2020_03_21_postprocessing_test_visualization_N120.png)\n",
    "\n",
    "#### Values\n",
    "\n"
   ]
  },
  {
   "cell_type": "code",
   "execution_count": 6,
   "metadata": {},
   "outputs": [],
   "source": [
    "df = pd.read_csv('../Post-processing_Code/ResultsSimulation.csv')"
   ]
  },
  {
   "cell_type": "code",
   "execution_count": 7,
   "metadata": {},
   "outputs": [
    {
     "data": {
      "text/html": [
       "<div>\n",
       "<style scoped>\n",
       "    .dataframe tbody tr th:only-of-type {\n",
       "        vertical-align: middle;\n",
       "    }\n",
       "\n",
       "    .dataframe tbody tr th {\n",
       "        vertical-align: top;\n",
       "    }\n",
       "\n",
       "    .dataframe thead th {\n",
       "        text-align: right;\n",
       "    }\n",
       "</style>\n",
       "<table border=\"1\" class=\"dataframe\">\n",
       "  <thead>\n",
       "    <tr style=\"text-align: right;\">\n",
       "      <th></th>\n",
       "      <th>Parameters</th>\n",
       "      <th>ExperimentalValues</th>\n",
       "      <th>ReferenceValues</th>\n",
       "      <th>Units</th>\n",
       "    </tr>\n",
       "  </thead>\n",
       "  <tbody>\n",
       "    <tr>\n",
       "      <th>0</th>\n",
       "      <td>LVEF</td>\n",
       "      <td>43.52</td>\n",
       "      <td>15-33</td>\n",
       "      <td>[%]</td>\n",
       "    </tr>\n",
       "    <tr>\n",
       "      <th>1</th>\n",
       "      <td>Heart rate</td>\n",
       "      <td>71.43</td>\n",
       "      <td>76-103</td>\n",
       "      <td>[1/s]</td>\n",
       "    </tr>\n",
       "    <tr>\n",
       "      <th>2</th>\n",
       "      <td>Cardiac index</td>\n",
       "      <td>-0.69</td>\n",
       "      <td>1.9-2.4</td>\n",
       "      <td>[L/min]</td>\n",
       "    </tr>\n",
       "    <tr>\n",
       "      <th>3</th>\n",
       "      <td>End diastolic volume</td>\n",
       "      <td>157.51</td>\n",
       "      <td>205-522</td>\n",
       "      <td>[ml]</td>\n",
       "    </tr>\n",
       "    <tr>\n",
       "      <th>4</th>\n",
       "      <td>End systolic volume</td>\n",
       "      <td>88.96</td>\n",
       "      <td>140-249</td>\n",
       "      <td>[ml]</td>\n",
       "    </tr>\n",
       "    <tr>\n",
       "      <th>5</th>\n",
       "      <td>Systolic arterial pressure</td>\n",
       "      <td>116.41</td>\n",
       "      <td>107-115</td>\n",
       "      <td>[mmHg]</td>\n",
       "    </tr>\n",
       "    <tr>\n",
       "      <th>6</th>\n",
       "      <td>Diastolic arterial pressure</td>\n",
       "      <td>78.94</td>\n",
       "      <td>68-76</td>\n",
       "      <td>[mmHg]</td>\n",
       "    </tr>\n",
       "    <tr>\n",
       "      <th>7</th>\n",
       "      <td>Mean arterial pressure</td>\n",
       "      <td>91.43</td>\n",
       "      <td>78-95</td>\n",
       "      <td>[mmHg]</td>\n",
       "    </tr>\n",
       "    <tr>\n",
       "      <th>8</th>\n",
       "      <td>Systolic pulmonary arterial pressure</td>\n",
       "      <td>29.05</td>\n",
       "      <td>54-62</td>\n",
       "      <td>[mmHg]</td>\n",
       "    </tr>\n",
       "    <tr>\n",
       "      <th>9</th>\n",
       "      <td>Diastolic pulmonary arterial pressure</td>\n",
       "      <td>14.38</td>\n",
       "      <td>28-29</td>\n",
       "      <td>[mmHg]</td>\n",
       "    </tr>\n",
       "    <tr>\n",
       "      <th>10</th>\n",
       "      <td>Mean pulmonary arterial pressure</td>\n",
       "      <td>19.27</td>\n",
       "      <td>27-40</td>\n",
       "      <td>[mmHg]</td>\n",
       "    </tr>\n",
       "    <tr>\n",
       "      <th>11</th>\n",
       "      <td>Pulmonary capillary wedge pressure</td>\n",
       "      <td>9.71</td>\n",
       "      <td>17-29</td>\n",
       "      <td>[mmHg]</td>\n",
       "    </tr>\n",
       "  </tbody>\n",
       "</table>\n",
       "</div>"
      ],
      "text/plain": [
       "                               Parameters  ExperimentalValues ReferenceValues  \\\n",
       "0                                    LVEF               43.52           15-33   \n",
       "1                              Heart rate               71.43          76-103   \n",
       "2                           Cardiac index               -0.69         1.9-2.4   \n",
       "3                    End diastolic volume              157.51         205-522   \n",
       "4                     End systolic volume               88.96         140-249   \n",
       "5              Systolic arterial pressure              116.41         107-115   \n",
       "6             Diastolic arterial pressure               78.94           68-76   \n",
       "7                  Mean arterial pressure               91.43           78-95   \n",
       "8    Systolic pulmonary arterial pressure               29.05           54-62   \n",
       "9   Diastolic pulmonary arterial pressure               14.38           28-29   \n",
       "10       Mean pulmonary arterial pressure               19.27           27-40   \n",
       "11     Pulmonary capillary wedge pressure                9.71           17-29   \n",
       "\n",
       "      Units  \n",
       "0       [%]  \n",
       "1     [1/s]  \n",
       "2   [L/min]  \n",
       "3      [ml]  \n",
       "4      [ml]  \n",
       "5    [mmHg]  \n",
       "6    [mmHg]  \n",
       "7    [mmHg]  \n",
       "8    [mmHg]  \n",
       "9    [mmHg]  \n",
       "10   [mmHg]  \n",
       "11   [mmHg]  "
      ]
     },
     "execution_count": 7,
     "metadata": {},
     "output_type": "execute_result"
    }
   ],
   "source": [
    "df"
   ]
  },
  {
   "cell_type": "markdown",
   "metadata": {},
   "source": [
    "## General analysis \n",
    "\n",
    "### `test_dnnmodelevaluation.m`\n",
    "\n"
   ]
  },
  {
   "cell_type": "code",
   "execution_count": null,
   "metadata": {},
   "outputs": [],
   "source": [
    "def format_result_table(df):\n",
    "    # Directly from test_dnnmodelevaluation.m\n",
    "    rows = ['SDErrorMatrix', 'meanErrorMatrix', 'mean(Xexact)',\n",
    "            'meanRelErrorMatrix', 'SDExact']\n",
    "    # From createdataforanalysis.m\n",
    "    columns = ['HR','SAPM','SAPS','SAPD','PAPM','PAPS',\n",
    "               'PAPD','LVEF', 'LVEDV', 'LVESV', 'CI']\n",
    "    "
   ]
  }
 ],
 "metadata": {
  "kernelspec": {
   "display_name": "Python 3",
   "language": "python",
   "name": "python3"
  },
  "language_info": {
   "codemirror_mode": {
    "name": "ipython",
    "version": 3
   },
   "file_extension": ".py",
   "mimetype": "text/x-python",
   "name": "python",
   "nbconvert_exporter": "python",
   "pygments_lexer": "ipython3",
   "version": "3.7.6"
  }
 },
 "nbformat": 4,
 "nbformat_minor": 4
}
