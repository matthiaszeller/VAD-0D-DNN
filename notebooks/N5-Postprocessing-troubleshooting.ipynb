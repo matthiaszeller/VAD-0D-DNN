{
 "cells": [
  {
   "cell_type": "code",
   "execution_count": 11,
   "metadata": {},
   "outputs": [],
   "source": [
    "import pandas as pd\n",
    "import numpy as np"
   ]
  },
  {
   "cell_type": "markdown",
   "metadata": {},
   "source": [
    "# Introduction\n",
    "\n"
   ]
  },
  {
   "cell_type": "markdown",
   "metadata": {},
   "source": [
    "Troubleshooting for `test_resultscomparison.m`. The model includes `VAD2`, i.e. the Heart Mate 3.\n",
    "\n",
    "## Reference\n",
    "\n",
    "Commit `a82d08c`.\n",
    "\n",
    "## Context\n",
    "\n",
    "`test_resultscomparison.m` compares results of predicted vs exact values, based on the DNN *test* data. It plots the 3 figures shown below.\n",
    "\n",
    "The data is the test files number 120 in `simulations_2020_03_21/dnn_test_2020_04_07`. Other files show similar results."
   ]
  },
  {
   "cell_type": "code",
   "execution_count": 15,
   "metadata": {},
   "outputs": [],
   "source": [
    "fileNumber = 120"
   ]
  },
  {
   "cell_type": "markdown",
   "metadata": {},
   "source": [
    "## Problem\n",
    "\n",
    "* ~Negative aortic flow~\n",
    "    * Actually it is normal\n",
    "* Incomplete PV curve\n",
    "    * Problem with heart period"
   ]
  },
  {
   "cell_type": "markdown",
   "metadata": {},
   "source": [
    "![img](img/a82d08c_simulation_2020_03_21_rescomparison_N120.png)"
   ]
  },
  {
   "cell_type": "markdown",
   "metadata": {},
   "source": [
    "# Data\n",
    "\n",
    "## Matlab values\n",
    "\n",
    "    periodExact =  0.48646\n",
    "    periodPredicted =  0.48237\n",
    "\n",
    "## Retrieve simulation parameters"
   ]
  },
  {
   "cell_type": "code",
   "execution_count": 7,
   "metadata": {},
   "outputs": [],
   "source": [
    "path = '/media/maousi/Data/tmp/simulations_2020_03_21/dnn/'"
   ]
  },
  {
   "cell_type": "code",
   "execution_count": 9,
   "metadata": {},
   "outputs": [
    {
     "name": "stdout",
     "output_type": "stream",
     "text": [
      "coefmaxs.npy\t DNN_Performance.eps  parammins.npy   Ytestpred.txt\n",
      "coefmins.npy\t Losses.eps\t      Xtest_norm.npy  Ytest.txt\n",
      "DNN_0D_Model.h5  parammaxs.npy\t      Ytest_norm.npy\n"
     ]
    }
   ],
   "source": [
    "!ls $path"
   ]
  },
  {
   "cell_type": "code",
   "execution_count": 13,
   "metadata": {},
   "outputs": [],
   "source": [
    "Ytest = np.loadtxt(path+'Ytest.txt')\n",
    "Ytestpred = np.loadtxt(path+'Ytestpred.txt')"
   ]
  },
  {
   "cell_type": "code",
   "execution_count": 16,
   "metadata": {},
   "outputs": [
    {
     "data": {
      "text/plain": [
       "array([2.04782157, 0.89127126, 0.41149013, 0.01289567])"
      ]
     },
     "execution_count": 16,
     "metadata": {},
     "output_type": "execute_result"
    }
   ],
   "source": [
    "Ytest[fileNumber]"
   ]
  },
  {
   "cell_type": "code",
   "execution_count": 17,
   "metadata": {},
   "outputs": [
    {
     "data": {
      "text/plain": [
       "array([1.99605525, 0.81988358, 0.4241322 , 0.01285417])"
      ]
     },
     "execution_count": 17,
     "metadata": {},
     "output_type": "execute_result"
    }
   ],
   "source": [
    "Ytestpred[fileNumber]"
   ]
  },
  {
   "cell_type": "markdown",
   "metadata": {},
   "source": [
    "Parameters are in the following order:\n",
    "\n",
    "1. Param_LeftVentricle_Emax0\n",
    "1. Param_LeftVentricle_EmaxRef0\n",
    "1. Param_LeftVentricle_AGain_Emax\n",
    "1. Param_LeftVentricle_kE"
   ]
  },
  {
   "cell_type": "markdown",
   "metadata": {},
   "source": [
    "# Reproduce simulation in OpenModelica\n",
    "\n",
    "We take the exact values of the 4 parameters shown above, all the other were not changed during simulation. We simulate over 20 seconds with 500 intervals, as performed in the python script."
   ]
  },
  {
   "cell_type": "markdown",
   "metadata": {},
   "source": [
    "![img](img/a82d08c_simulation_2020_03_21_reproduceSAP_N120.png)"
   ]
  },
  {
   "cell_type": "markdown",
   "metadata": {},
   "source": [
    "**This is exactly the same.**"
   ]
  },
  {
   "cell_type": "markdown",
   "metadata": {},
   "source": [
    "# Solution\n",
    "\n",
    "After investigation, **the `findpeaks` function did not work correctly on Octave, use Matlab.**"
   ]
  }
 ],
 "metadata": {
  "kernelspec": {
   "display_name": "Python 3",
   "language": "python",
   "name": "python3"
  },
  "language_info": {
   "codemirror_mode": {
    "name": "ipython",
    "version": 3
   },
   "file_extension": ".py",
   "mimetype": "text/x-python",
   "name": "python",
   "nbconvert_exporter": "python",
   "pygments_lexer": "ipython3",
   "version": "3.7.6"
  }
 },
 "nbformat": 4,
 "nbformat_minor": 4
}
