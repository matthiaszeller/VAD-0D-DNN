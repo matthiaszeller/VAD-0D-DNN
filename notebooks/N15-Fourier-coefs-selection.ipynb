{
 "cells": [
  {
   "cell_type": "code",
   "execution_count": null,
   "metadata": {},
   "outputs": [],
   "source": [
    "from buildingspy.io.outputfile import Reader\n",
    "import matplotlib.pyplot as plt\n",
    "import numpy as np\n",
    "import pandas as pd"
   ]
  },
  {
   "cell_type": "code",
   "execution_count": null,
   "metadata": {},
   "outputs": [],
   "source": [
    "import sys\n",
    "sys.path.insert(0, '/media/maousi/Data/Documents/Programmation/git/vad-0d-dnn/Pre-processing')"
   ]
  },
  {
   "cell_type": "code",
   "execution_count": null,
   "metadata": {},
   "outputs": [],
   "source": [
    "import script_createdataset as sc"
   ]
  },
  {
   "cell_type": "code",
   "execution_count": null,
   "metadata": {},
   "outputs": [],
   "source": [
    "path = '/media/maousi/Data/tmp/case_study/'\n",
    "file_ = 'Ursino1998Model_VAD2_AP_{}_RPM_{}_HF_{}.csv'"
   ]
  },
  {
   "cell_type": "code",
   "execution_count": null,
   "metadata": {},
   "outputs": [],
   "source": [
    "file = file_.format(True, 5000, 'SHF')"
   ]
  },
  {
   "cell_type": "code",
   "execution_count": null,
   "metadata": {},
   "outputs": [],
   "source": [
    "def extract_results(file_path, var):\n",
    "    df = pd.read_csv(file_path)\n",
    "    return df.time.values, df[var].values"
   ]
  },
  {
   "cell_type": "code",
   "execution_count": null,
   "metadata": {},
   "outputs": [],
   "source": [
    "def reconstruct(aks, bks, t, T):\n",
    "    x = t * 0 + aks[0] / 2\n",
    "    for k in range(1, len(aks)):\n",
    "        x += aks[k] * np.cos(2*np.pi*t * k / T) + \\\n",
    "             bks[k] * np.sin(2*np.pi*t * k / T)\n",
    "    return x"
   ]
  },
  {
   "cell_type": "markdown",
   "metadata": {},
   "source": [
    "# Test\n",
    "\n",
    "## Analytical function"
   ]
  },
  {
   "cell_type": "code",
   "execution_count": null,
   "metadata": {},
   "outputs": [],
   "source": [
    "f = lambda x: x * np.exp(-x)"
   ]
  },
  {
   "cell_type": "code",
   "execution_count": null,
   "metadata": {},
   "outputs": [],
   "source": [
    "n_samples = 20\n",
    "T = 5\n",
    "t = T / (n_samples+1) * np.arange(0, n_samples+1)\n",
    "signal = f(t)\n",
    "plt.plot(t, signal, '-o');"
   ]
  },
  {
   "cell_type": "code",
   "execution_count": null,
   "metadata": {},
   "outputs": [],
   "source": [
    "_, aks, bks = sc.myfft(signal)"
   ]
  },
  {
   "cell_type": "code",
   "execution_count": null,
   "metadata": {},
   "outputs": [],
   "source": [
    "x = reconstruct(aks, bks, t, T)"
   ]
  },
  {
   "cell_type": "code",
   "execution_count": null,
   "metadata": {},
   "outputs": [],
   "source": [
    "plt.plot(t, x, '-o', t, signal, '--k');"
   ]
  },
  {
   "cell_type": "markdown",
   "metadata": {},
   "source": [
    "## Model simulation file"
   ]
  },
  {
   "cell_type": "code",
   "execution_count": null,
   "metadata": {},
   "outputs": [],
   "source": [
    "model_file = '../Pre-processing/model_file_2.mat'\n",
    "reader = Reader(model_file, 'dymola')\n",
    "t, signal = sc.extract_results('SystemicArteries.PC', reader)\n",
    "t, signal = sc.time_range(signal, t, 20.0, 30.0)"
   ]
  },
  {
   "cell_type": "code",
   "execution_count": null,
   "metadata": {},
   "outputs": [],
   "source": [
    "plt.plot(t, signal)"
   ]
  },
  {
   "cell_type": "code",
   "execution_count": null,
   "metadata": {},
   "outputs": [],
   "source": [
    "_, aks, bks, T, t, signal = sc.perform_fft(signal, t, 0.015)\n",
    "signal_tilda = reconstruct(aks, bks, t, T)"
   ]
  },
  {
   "cell_type": "code",
   "execution_count": null,
   "metadata": {},
   "outputs": [],
   "source": [
    "plt.plot(t, signal_tilda, t, signal, '--k');"
   ]
  },
  {
   "cell_type": "markdown",
   "metadata": {},
   "source": [
    "# Look at case study data"
   ]
  },
  {
   "cell_type": "code",
   "execution_count": null,
   "metadata": {},
   "outputs": [],
   "source": [
    "# Determine which cases we examine\n",
    "cases = [\n",
    "    (True, 5000, 'MHF'),\n",
    "    (True, 6000, 'MHF'),\n",
    "    (True, 4000, 'SHF'),\n",
    "    (True, 6000, 'SHF')\n",
    "]\n",
    "\n",
    "files = [path + file_.format(*case) for case in cases]"
   ]
  },
  {
   "cell_type": "code",
   "execution_count": null,
   "metadata": {},
   "outputs": [],
   "source": [
    "file = files[0]\n",
    "file"
   ]
  },
  {
   "cell_type": "code",
   "execution_count": null,
   "metadata": {},
   "outputs": [],
   "source": [
    "t, signal = extract_results(file, 'SystemicArteries.Inlet.P')\n",
    "t, signal = sc.time_range(signal, t, 20.0, 30.0)"
   ]
  },
  {
   "cell_type": "code",
   "execution_count": null,
   "metadata": {},
   "outputs": [],
   "source": [
    "plt.plot(t, signal)"
   ]
  },
  {
   "cell_type": "code",
   "execution_count": null,
   "metadata": {},
   "outputs": [],
   "source": [
    "_, aks, bks, T, t, signal = sc.perform_fft(signal, t, 0.015)\n",
    "signal_tilda = reconstruct(aks, bks, t, T)\n",
    "\n",
    "plt.plot(t, signal_tilda, t, signal, '--k');"
   ]
  },
  {
   "cell_type": "markdown",
   "metadata": {},
   "source": [
    "## Compute coefs of case study files"
   ]
  },
  {
   "cell_type": "code",
   "execution_count": null,
   "metadata": {},
   "outputs": [],
   "source": [
    "tmin, tmax = 20.0, 30.0\n",
    "dt = 0.015"
   ]
  },
  {
   "cell_type": "code",
   "execution_count": null,
   "metadata": {},
   "outputs": [],
   "source": [
    "# Data structure: dictionnary\n",
    "# key = case tuple (AP, RPM, HF)\n",
    "# value = tuple (t, signal, aks, bks, T)\n",
    "coefs = {}\n",
    "for case, file in zip(cases, files):\n",
    "    t, signal = extract_results(file, 'SystemicArteries.Inlet.P')\n",
    "    t, signal = sc.time_range(signal, t, tmin, tmax)\n",
    "    _, aks, bks, T, t, signal = sc.perform_fft(signal, t, dt)\n",
    "    \n",
    "    coefs[case] = (t, signal, aks, bks, T)"
   ]
  },
  {
   "cell_type": "markdown",
   "metadata": {},
   "source": [
    "## Reconstruct truncated signal"
   ]
  },
  {
   "cell_type": "code",
   "execution_count": null,
   "metadata": {},
   "outputs": [],
   "source": [
    "def reconstruct_truncated(n, aks, bks, t, T):\n",
    "    return reconstruct(aks[:n], bks[:n], t, T)"
   ]
  },
  {
   "cell_type": "markdown",
   "metadata": {},
   "source": [
    "## Nice visualization\n",
    "\n",
    "Idea: N x 3 plot grid, N the number of cases\n",
    "\n",
    "* Left panel: original signal overlapping with reconstructed signal\n",
    "* Middle and right panels: aks and bks coeffs"
   ]
  },
  {
   "cell_type": "code",
   "execution_count": null,
   "metadata": {},
   "outputs": [],
   "source": [
    "def visualize(coefs_data, n):\n",
    "    fig, ax = plt.subplots(len(coefs_data), 3, figsize=(20,len(coefs_data)*5))\n",
    "    \n",
    "    for row, (case, (t, signal, aks, bks, T)) in enumerate(coefs_data.items()):\n",
    "        # Plot Fourier coefficients\n",
    "        ax[row][1].plot(aks[1:n+100])\n",
    "        ax[row][2].plot(bks[:n+100])\n",
    "        ax[row][1].axvline(n, color='k')\n",
    "        ax[row][2].axvline(n, color='k')\n",
    "        \n",
    "        # Reconstruct truncated signal\n",
    "        signal_tilda = reconstruct_truncated(n, aks, bks, t, T)\n",
    "        # Plot overlapping signals\n",
    "        ax[row][0].plot(t, signal_tilda, t, signal, '--k')\n",
    "        \n",
    "        ax[row][0].set_title(str(case))\n",
    "        ax[row][1].set_title('aks')\n",
    "        ax[row][2].set_title('bks')"
   ]
  },
  {
   "cell_type": "code",
   "execution_count": null,
   "metadata": {},
   "outputs": [],
   "source": [
    "visualize(coefs,40)\n",
    "plt.savefig('figs/fourier_overview.eps')"
   ]
  },
  {
   "cell_type": "markdown",
   "metadata": {},
   "source": [
    "# Dicussion: number of Fourier coefficients\n",
    "\n",
    "Choose the simulation configuration with the most perturbed arterial pressure signals, namely with severe heart failure @ 4000 RPM and with Artificial Pulse."
   ]
  },
  {
   "cell_type": "code",
   "execution_count": null,
   "metadata": {},
   "outputs": [],
   "source": [
    "file = '/media/maousi/Data/tmp/case_study/Ursino1998Model_VAD2_AP_True_RPM_4000_HF_SHF.csv'"
   ]
  },
  {
   "cell_type": "code",
   "execution_count": null,
   "metadata": {},
   "outputs": [],
   "source": [
    "t, sap = extract_results(file, 'SystemicArteries.Inlet.P')\n",
    "t, sap = sc.time_range(sap, t, 20.0, 30.0)\n",
    "t_ = t"
   ]
  },
  {
   "cell_type": "code",
   "execution_count": null,
   "metadata": {},
   "outputs": [],
   "source": [
    "plt.subplots(figsize=(5,3))\n",
    "plt.plot(t, sap);"
   ]
  },
  {
   "cell_type": "code",
   "execution_count": null,
   "metadata": {},
   "outputs": [],
   "source": [
    "_, aks, bks, T, t, signal = sc.perform_fft(sap, t, dt=0.015)"
   ]
  },
  {
   "cell_type": "markdown",
   "metadata": {},
   "source": [
    "## Fourier coefficients plot"
   ]
  },
  {
   "cell_type": "code",
   "execution_count": null,
   "metadata": {},
   "outputs": [],
   "source": [
    "from ipypublish import nb_setup\n",
    "plt = nb_setup.setup_matplotlib()\n",
    "import seaborn as sns\n",
    "sns.set(style='whitegrid')"
   ]
  },
  {
   "cell_type": "code",
   "execution_count": null,
   "metadata": {},
   "outputs": [],
   "source": [
    "ncoef_plot = 100"
   ]
  },
  {
   "cell_type": "code",
   "execution_count": null,
   "metadata": {},
   "outputs": [],
   "source": [
    "def plot_coefs(data, ids, ax, label):\n",
    "    ax.plot(ids, data[ids])\n",
    "    d = ax.scatter(ids, data[ids], color='k', zorder=3, s=6)\n",
    "    ax.set_ylabel(label)"
   ]
  },
  {
   "cell_type": "code",
   "execution_count": null,
   "metadata": {},
   "outputs": [],
   "source": [
    "fig, ax = plt.subplots(2, 1, sharex=True)\n",
    "\n",
    "k = range(1, ncoef_plot + 1)\n",
    "plot_coefs(aks, k, ax[0], '$a_k$')\n",
    "k = range(0, ncoef_plot + 1)\n",
    "plot_coefs(bks, k, ax[1], '$b_k$')\n",
    "\n",
    "# Cosmetics\n",
    "plt.subplots_adjust(hspace=.05)\n",
    "plt.xlabel('k');\n",
    "plt.savefig('figs/fourier_coefs.eps')"
   ]
  },
  {
   "cell_type": "markdown",
   "metadata": {},
   "source": [
    "## Reconstruction plots\n"
   ]
  },
  {
   "cell_type": "code",
   "execution_count": null,
   "metadata": {},
   "outputs": [],
   "source": [
    "ncoefs = [20, 40, 50]"
   ]
  },
  {
   "cell_type": "code",
   "execution_count": null,
   "metadata": {},
   "outputs": [],
   "source": [
    "fig, ax = plt.subplots(figsize=(8,3))\n",
    "\n",
    "# Original signal\n",
    "plt.plot(t_ - min(t_), sap, label='Original')\n",
    "\n",
    "# Reconstruct\n",
    "for n in ncoefs:\n",
    "    sap_tilde = reconstruct_truncated(n, aks, bks, t, T)\n",
    "    plt.plot(t, sap_tilde, label=f'$n={n}$', ls='--')\n",
    "\n",
    "plt.legend()\n",
    "plt.savefig('figs/fourier_reconstruction_bad.eps')"
   ]
  },
  {
   "cell_type": "code",
   "execution_count": null,
   "metadata": {},
   "outputs": [],
   "source": [
    "ncoefs = [20, 30, 40, 50, 80]\n",
    "fig, ax = plt.subplots(figsize=(8,5))\n",
    "\n",
    "# Original signal\n",
    "#plt.plot(t_ - min(t_), sap, label='Original')\n",
    "max_amplitude = max(sap) - min(sap)\n",
    "\n",
    "# Reconstruct\n",
    "for i, n in enumerate(sorted(ncoefs, reverse=True)):\n",
    "    sap_tilde = reconstruct_truncated(n, aks, bks, t, T)\n",
    "    plt.plot(t_ - min(t_), sap - (i+1)*max_amplitude, 'k', zorder=0, lw=1, label='original' if i == 0 else None)\n",
    "    plt.plot(t, sap_tilde - (i+1)*max_amplitude, label=f'$n={n}$')\n",
    "\n",
    "ax.set_yticklabels([])\n",
    "plt.xlabel('Time [s]')\n",
    "plt.legend(loc='center right', bbox_to_anchor=(1.2,.5));\n",
    "plt.tight_layout()\n",
    "plt.savefig('figs/fourier_reconstruction.eps', bbox_inches='tight')"
   ]
  }
 ],
 "metadata": {
  "kernelspec": {
   "display_name": "Python 3",
   "language": "python",
   "name": "python3"
  },
  "language_info": {
   "codemirror_mode": {
    "name": "ipython",
    "version": 3
   },
   "file_extension": ".py",
   "mimetype": "text/x-python",
   "name": "python",
   "nbconvert_exporter": "python",
   "pygments_lexer": "ipython3",
   "version": "3.7.7"
  }
 },
 "nbformat": 4,
 "nbformat_minor": 4
}
