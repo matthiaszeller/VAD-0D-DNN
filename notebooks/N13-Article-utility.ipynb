{
 "cells": [
  {
   "cell_type": "markdown",
   "metadata": {},
   "source": [
    "# Python setup\n",
    "\n",
    "## Imports"
   ]
  },
  {
   "cell_type": "code",
   "execution_count": null,
   "metadata": {},
   "outputs": [],
   "source": [
    "import numpy as np\n",
    "import matplotlib.pyplot as plt\n",
    "import seaborn as sns\n",
    "import pickle"
   ]
  },
  {
   "cell_type": "code",
   "execution_count": null,
   "metadata": {},
   "outputs": [],
   "source": [
    "from buildingspy.io.outputfile import Reader"
   ]
  },
  {
   "cell_type": "code",
   "execution_count": null,
   "metadata": {},
   "outputs": [],
   "source": [
    "from ipypublish import nb_setup"
   ]
  },
  {
   "cell_type": "markdown",
   "metadata": {},
   "source": [
    "## Cosmetics\n"
   ]
  },
  {
   "cell_type": "code",
   "execution_count": null,
   "metadata": {},
   "outputs": [],
   "source": [
    "pd = nb_setup.setup_pandas()\n",
    "pd.set_option('precision', 3)"
   ]
  },
  {
   "cell_type": "code",
   "execution_count": null,
   "metadata": {},
   "outputs": [],
   "source": [
    "# https://stackoverflow.com/a/39566040/11552622\n",
    "rcparams = {\n",
    "    'axes.titlesize':13,\n",
    "    'axes.labelsize':9,\n",
    "    'xtick.labelsize':8,\n",
    "    'ytick.labelsize':8\n",
    "}"
   ]
  },
  {
   "cell_type": "code",
   "execution_count": null,
   "metadata": {},
   "outputs": [],
   "source": [
    "# IPyPublish customization of matplotlib.pyplot and pandas\n",
    "from ipypublish import nb_setup\n",
    "plt = nb_setup.setup_matplotlib(output=('pdf','svg'), rcparams=rcparams, usetex=True)"
   ]
  },
  {
   "cell_type": "markdown",
   "metadata": {},
   "source": [
    "## Path configuration"
   ]
  },
  {
   "cell_type": "code",
   "execution_count": null,
   "metadata": {},
   "outputs": [],
   "source": [
    "file_names = {\n",
    "    # Results summary table\n",
    "    'table': 'table.csv', \n",
    "    # Hemodynamic parameters\n",
    "    'Xexact': 'Xexact.csv', 'Xpred':'Xpredicted.csv',\n",
    "    # DNN responses\n",
    "    'Ytest':'Ytest.txt', 'Ypred':'Ytestpred.txt',\n",
    "    # Simulation files\n",
    "    'simulation': 'Ursino1998Model_VAD2_{}_{}.mat'\n",
    "}"
   ]
  },
  {
   "cell_type": "code",
   "execution_count": null,
   "metadata": {},
   "outputs": [],
   "source": [
    "prefix = '/media/maousi/Data/tmp/'\n",
    "suffix = '/results/'\n",
    "results_folders = {\n",
    "    # Boolean: artificial pulse\n",
    "    False: {\n",
    "        # Integer: RPM\n",
    "        4000: 'simulations_2020_03_21',\n",
    "        5000: 'simulation_LVAD_RPM5000_2020_04_21',\n",
    "        6000: 'simulation_LVAD_RPM6000_2020_04_22',\n",
    "        # Convention: put the simulations without LVAD here, i.e. RPM=0\n",
    "        0:    'simulation_noLVAD_2020_04_15'\n",
    "    },\n",
    "    True: {\n",
    "        # Integer: RPM\n",
    "        4000: 'simulation_LVAD_RPM4000_Pulse_T30_N2000_2020_04_26',\n",
    "        5000: 'simulation_LVAD_RPM5000_Pulse_T30_N2000_2020_04_26',\n",
    "        6000: 'simulation_LVAD_RPM6000_Pulse_T30_N2000_2020_04_26'\n",
    "        #4000: 'simulation_LVAD_RPM4000_Pulse_T20_N500_2020_05_31',\n",
    "        #5000: 'simulation_LVAD_RPM5000_Pulse_T20_N500_2020_05_31',\n",
    "        #6000: 'simulation_LVAD_RPM6000_Pulse_T20_N500_2020_05_31'\n",
    "    }\n",
    "}\n",
    "for ap, dic in results_folders.items():\n",
    "    for rpm, path in dic.items():\n",
    "        dic[rpm] = prefix+path+suffix"
   ]
  },
  {
   "cell_type": "markdown",
   "metadata": {},
   "source": [
    "---\n",
    "\n",
    "# Latex generator"
   ]
  },
  {
   "cell_type": "markdown",
   "metadata": {},
   "source": [
    "## Parameter range"
   ]
  },
  {
   "cell_type": "code",
   "execution_count": null,
   "metadata": {},
   "outputs": [],
   "source": [
    "cols = [r'$E_{max,lv}$', r'$E_{max,lv,0}$',\n",
    "                  r'$G_{E_{max,lv}}$', r'$k_{E,lv}$']\n",
    "index = ['Lower bound', 'Upper bound']\n",
    "data = np.array([\n",
    "    [0.2, 2.95],\n",
    "    [0.2, 2.392],\n",
    "    [0.2, 0.475],\n",
    "    [0.011, 0.014]\n",
    "]).transpose()"
   ]
  },
  {
   "cell_type": "code",
   "execution_count": null,
   "metadata": {
    "ipub": {
     "table": {
      "ignore": false
     }
    }
   },
   "outputs": [],
   "source": [
    "pd.DataFrame(data=data, index=index, columns=cols)"
   ]
  },
  {
   "cell_type": "markdown",
   "metadata": {},
   "source": [
    "## DNN results"
   ]
  },
  {
   "cell_type": "code",
   "execution_count": null,
   "metadata": {},
   "outputs": [],
   "source": [
    "# Define utility function to format results table\n",
    "def format_table(table):\n",
    "    table.index = [\n",
    "        'Min exact', 'Max exact', 'Mean exact', 'SD exact', 'Min pred', \n",
    "        'Max pred', 'Mean pred', 'SD pred', 'Avg err mx', \n",
    "        'Avg rel err%', 'SD error', 'CI min', 'CI max',\n",
    "    ]\n",
    "    table.columns = [\n",
    "        'HR','SAPM','SAPS','SAPD', 'PAPM','PAPS','PAPD','LVEF',\n",
    "        'LVEDV', 'LVESV', 'CI', 'PCPW'\n",
    "    ]\n",
    "    # Multiply relative error by 100\n",
    "    table.loc['Avg rel err%', :] = table.loc['Avg rel err%', :] * 100"
   ]
  },
  {
   "cell_type": "code",
   "execution_count": null,
   "metadata": {},
   "outputs": [],
   "source": [
    "# Load the table, format it and return it\n",
    "def get_results_table(artificial_pulse, RPM):\n",
    "    \"\"\"\n",
    "    :param artificial_pulse: bool\n",
    "    :param RPM: int\n",
    "    \"\"\"\n",
    "    df = pd.read_csv(\n",
    "        results_folders[artificial_pulse][RPM] + file_names['table'], \n",
    "        header=None\n",
    "    )\n",
    "    format_table(df)\n",
    "    return df"
   ]
  },
  {
   "cell_type": "code",
   "execution_count": null,
   "metadata": {},
   "outputs": [],
   "source": [
    "get_results_table(artificial_pulse=True, RPM=4000)"
   ]
  },
  {
   "cell_type": "code",
   "execution_count": null,
   "metadata": {},
   "outputs": [],
   "source": [
    "def format_table_article(art_pulse, RPM):\n",
    "    # TODO : check multicolumn param of to_latex !!!! and many other params\n",
    "    df = get_results_table(artificial_pulse=art_pulse, RPM=RPM)\n",
    "    return df.to_latex(caption=f'{art_pulse}, {RPM}', bold_rows=True, \n",
    "                       float_format='%.2f', escape=True)"
   ]
  },
  {
   "cell_type": "code",
   "execution_count": null,
   "metadata": {},
   "outputs": [],
   "source": [
    "format_table_article(True,4000)"
   ]
  },
  {
   "cell_type": "code",
   "execution_count": null,
   "metadata": {},
   "outputs": [],
   "source": [
    "from datetime import datetime"
   ]
  },
  {
   "cell_type": "code",
   "execution_count": null,
   "metadata": {},
   "outputs": [],
   "source": [
    "configs = [(True, 4000), (True, 5000), (True, 6000), (False, 4000),\n",
    "           (False, 5000), (False, 6000)]\n",
    "\n",
    "data = '\\n'.join([format_table_article(*config) for config in configs])"
   ]
  },
  {
   "cell_type": "code",
   "execution_count": null,
   "metadata": {},
   "outputs": [],
   "source": [
    "header = '%\\n% AUTOMATICALLY GENERATED - ' + datetime.now().strftime('%d-%m-%Y %H:%M:%S')\n",
    "header += '\\n% Notebook : N13 Article Utility\\n%\\n\\n'\n",
    "with open('data/dnn_hemodynamic_tables.tex', 'w') as f:\n",
    "    f.write(header + data)"
   ]
  },
  {
   "cell_type": "markdown",
   "metadata": {},
   "source": [
    "# Get a visual"
   ]
  },
  {
   "cell_type": "markdown",
   "metadata": {},
   "source": [
    "## Normalization"
   ]
  },
  {
   "cell_type": "code",
   "execution_count": null,
   "metadata": {},
   "outputs": [],
   "source": [
    "#import sys\n",
    "#import scipy.io as sio\n",
    "\n",
    "#sys.path.insert(0, '../Simulation_script/')\n",
    "\n",
    "#%run ../Deep_learning/utils_deeplearning.py\n",
    "\n",
    "#X = sio.loadmat('/media/maousi/Data/tmp/dnntest/X.mat')['X']\n",
    "\n",
    "#X.shape\n",
    "\n",
    "#plt.hist(X[0, 0])\n",
    "\n",
    "#ncoeff, nfreq = X.shape[1], X.shape[2]\n",
    "\n",
    "#newmins = np.full([ncoeff, nfreq], 0.0)\n",
    "#newmaxs = np.full([ncoeff, nfreq], 1.0)\n",
    "\n",
    "#%%capture cap_out\n",
    "#Xnorm, _, _ = normalizeinputmatDL(X, newmins, newmaxs);\n",
    "\n",
    "#plt.hist(Xnorm[0, 0])"
   ]
  },
  {
   "cell_type": "markdown",
   "metadata": {},
   "source": [
    "# Figures\n",
    "\n"
   ]
  },
  {
   "cell_type": "markdown",
   "metadata": {},
   "source": [
    "## SHF simulations"
   ]
  },
  {
   "cell_type": "code",
   "execution_count": null,
   "metadata": {},
   "outputs": [],
   "source": [
    "sns.set(style='whitegrid')"
   ]
  },
  {
   "cell_type": "code",
   "execution_count": null,
   "metadata": {},
   "outputs": [],
   "source": [
    "# Define: variables to load\n",
    "variables = ['SystemicArteries.PC', 'AorticValve.Inlet.Q',\n",
    "             'SystemicArteries.Inlet.Q', 'LVAD.RPM', 'LeftVentricle.Inlet.P']\n",
    "# Define folder\n",
    "folder_standalone_sim = '/media/maousi/Data/tmp/standalone_simulations/'"
   ]
  },
  {
   "cell_type": "code",
   "execution_count": null,
   "metadata": {},
   "outputs": [],
   "source": [
    "# Data structure: nested dictionnaries\n",
    "# level 1 = heart failure, level 2 = rpm\n",
    "data_sim = {\n",
    "    hf_level: {rpm: None for rpm in [4000, 5000, 6000]}\n",
    "    for hf_level in ['MHF', 'SHF']\n",
    "}"
   ]
  },
  {
   "cell_type": "code",
   "execution_count": null,
   "metadata": {},
   "outputs": [],
   "source": [
    "def time_range(tmin, tmax, t, signal):\n",
    "    ids = np.where(np.logical_and(t >= tmin, t <= tmax))\n",
    "    return t[ids], signal[ids]\n",
    "\n",
    "def read_simulations(path, file_format, data, variables, tmin, tmax):\n",
    "    for hf_level, subdata in data.items():\n",
    "        for rpm in subdata:\n",
    "            file = path + file_format.format(hf_level, rpm)\n",
    "            reader = Reader(file, 'dymola')\n",
    "            subdata[rpm] = [\n",
    "                time_range(tmin, tmax, *reader.values(v)) for v in variables\n",
    "            ]"
   ]
  },
  {
   "cell_type": "code",
   "execution_count": null,
   "metadata": {},
   "outputs": [],
   "source": [
    "read_simulations(\n",
    "    path=folder_standalone_sim, file_format='Ursino1998Model_VAD2_{}_{}.mat',\n",
    "    data=data_sim, variables=variables, tmin=26.0, tmax=30.0\n",
    ")"
   ]
  },
  {
   "cell_type": "code",
   "execution_count": null,
   "metadata": {},
   "outputs": [],
   "source": [
    "data_sim['SHF'][4000]"
   ]
  },
  {
   "cell_type": "code",
   "execution_count": null,
   "metadata": {},
   "outputs": [],
   "source": [
    "# We have 2 heart failure levels * 3 rpm levels = 6 simulations\n",
    "# The function handles data for a given heart failure level\n",
    "def plot_simulations(data_hf):\n",
    "    fig, ax = plt.subplots(len(data_hf), 1, figsize=(10, 10))\n",
    "\n",
    "    for i, (rpm_c, data) in enumerate(data_hf.items()):\n",
    "        ax1 = ax[i]\n",
    "        ax2 = ax1.twinx()\n",
    "\n",
    "        (t1, pressure), (t2, valve_flow), (t3, aortic_flow), (t4, rpm), (t5, lv_pressure) = data\n",
    "        #(t1, pressure), (t2, valve_flow), (t3, arotic_flow), (t4, rpm) = data[0], data[1], data[2], data[3]\n",
    "        ax1.plot(t4, rpm/100, 'k--', linewidth=1)\n",
    "        ax1.plot(t1, pressure, 'b')\n",
    "        ax1.plot(t1, lv_pressure, '--', linewidth=0.5)\n",
    "        ax2.plot(t2, valve_flow, 'g--', linewidth=1)\n",
    "        ax2.plot(t3, aortic_flow, 'r')\n",
    "        #ax2.set_ylim([min(flow)-25, max(flow)+25])\n",
    "        #ax1.set_ylim(-5, max(max(pressure), max(flow)))\n",
    "        #ax2.plot(t2, flow)\n",
    "\n",
    "        # Manage x axis\n",
    "        if i == 2:\n",
    "            ax1.set_xlabel('Time [s]')\n",
    "        else:\n",
    "            pass#ax1.set_xticks([])\n",
    "        \n",
    "        ax1.set_ylabel('Systemic pressure [mmHg]\\nLV pressure [mmHg]\\nPump speed [RPM/100]')\n",
    "        ax2.set_ylabel('Aortic flow [ml/s]\\nValve flow [ml/s]')\n",
    "        #ax1.yaxis.label.set_color('b')\n",
    "        # Align the grids\n",
    "        #ax2.set_yticks(np.linspace(ax2.get_yticks()[0], ax2.get_yticks()[-1], len(ax1.get_yticks())))\n",
    "        ax2.grid(False)\n",
    "        ax2.set_ylim([-5, 1.5*max(aortic_flow)])\n",
    "        #ax1.set_title('RPM mean = {}'.format(rpm_c))\n",
    "\n",
    "    plt.subplots_adjust(hspace=.2)"
   ]
  },
  {
   "cell_type": "code",
   "execution_count": null,
   "metadata": {},
   "outputs": [],
   "source": [
    "plot_simulations(data_sim['SHF'])\n",
    "plt.savefig('figs/SHF_simulations.eps')"
   ]
  },
  {
   "cell_type": "code",
   "execution_count": null,
   "metadata": {},
   "outputs": [],
   "source": [
    "def plot_simulations2(data_hf):\n",
    "    fig, ax = plt.subplots(len(data_hf), 1, figsize=(10, 10))\n",
    "\n",
    "    for i, (rpm_c, data) in enumerate(data_hf.items()):\n",
    "        ax1 = ax[i]\n",
    "        ax2 = ax1.twinx()\n",
    "\n",
    "        (t1, pressure), (t2, valve_flow), (t3, aortic_flow), (t4, rpm), (t5, lv_pressure) = data\n",
    "        #(t1, pressure), (t2, valve_flow), (t3, arotic_flow), (t4, rpm) = data[0], data[1], data[2], data[3]\n",
    "        l1, = ax1.plot(t4, rpm/100, 'k--', linewidth=1)\n",
    "        l2, = ax1.plot(t1, pressure, 'b')\n",
    "        l3, = ax1.plot(t1, lv_pressure, '--', linewidth=0.5)\n",
    "        l4, = ax2.plot(t2, valve_flow, 'g--', linewidth=1)\n",
    "        l5, = ax2.plot(t3, aortic_flow, 'r')\n",
    "        #ax2.set_ylim([min(flow)-25, max(flow)+25])\n",
    "        #ax1.set_ylim(-5, max(max(pressure), max(flow)))\n",
    "        #ax2.plot(t2, flow)\n",
    "\n",
    "        # Manage x axis\n",
    "        if i == 2:\n",
    "            ax1.set_xlabel('Time [s]')\n",
    "        else:\n",
    "            pass#ax1.set_xticks([])\n",
    "        \n",
    "        ax1.set_ylabel('Systemic pressure [mmHg]\\nLV pressure [mmHg]\\nPump speed [RPM/100]')\n",
    "        ax2.set_ylabel('Aortic flow [ml/s]\\nValve flow [ml/s]')\n",
    "        #ax1.yaxis.label.set_color('b')\n",
    "        # Align the grids\n",
    "        #ax2.set_yticks(np.linspace(ax2.get_yticks()[0], ax2.get_yticks()[-1], len(ax1.get_yticks())))\n",
    "        ax2.grid(False)\n",
    "        ax2.set_ylim([-5, 1.5*max(aortic_flow)])\n",
    "        #ax1.set_title('RPM mean = {}'.format(rpm_c))\n",
    "\n",
    "    plt.subplots_adjust(hspace=.2)\n",
    "    ax2.legend(handles = [l1,l2,l3, l4, l5], labels=['LVAD speed', 'SAP', 'LV pressure', 'Aortic valve flow', 'Aortic flow'], \n",
    "               bbox_to_anchor=(0.5, -0.35), fancybox=False, shadow=False, ncol=5, loc='center')"
   ]
  },
  {
   "cell_type": "code",
   "execution_count": null,
   "metadata": {},
   "outputs": [],
   "source": [
    "plot_simulations2(data_sim['SHF'])\n",
    "plt.savefig('figs/SHF_simulations_enhanced.eps')"
   ]
  },
  {
   "cell_type": "markdown",
   "metadata": {},
   "source": [
    "### Compare pressure \n"
   ]
  },
  {
   "cell_type": "markdown",
   "metadata": {},
   "source": [
    "### Compute metrics"
   ]
  },
  {
   "cell_type": "code",
   "execution_count": null,
   "metadata": {},
   "outputs": [],
   "source": [
    "shf = data_sim['SHF']"
   ]
  },
  {
   "cell_type": "code",
   "execution_count": null,
   "metadata": {},
   "outputs": [],
   "source": [
    "# get_sap returns (t, pressure)\n",
    "get_sap = lambda datastruct, rpm: datastruct[rpm][0]"
   ]
  },
  {
   "cell_type": "code",
   "execution_count": null,
   "metadata": {},
   "outputs": [],
   "source": [
    "# Mean SAP\n"
   ]
  },
  {
   "cell_type": "markdown",
   "metadata": {},
   "source": [
    "## DNN accuarcy"
   ]
  },
  {
   "cell_type": "markdown",
   "metadata": {},
   "source": [
    "### Effect of artificial pulse"
   ]
  },
  {
   "cell_type": "code",
   "execution_count": null,
   "metadata": {},
   "outputs": [],
   "source": [
    "Ymse = pickle.load(open('data/dnn_mse.bin', 'rb'))"
   ]
  },
  {
   "cell_type": "code",
   "execution_count": null,
   "metadata": {},
   "outputs": [],
   "source": [
    "Ymse"
   ]
  },
  {
   "cell_type": "code",
   "execution_count": null,
   "metadata": {},
   "outputs": [],
   "source": [
    "Ymse.index"
   ]
  },
  {
   "cell_type": "code",
   "execution_count": null,
   "metadata": {},
   "outputs": [],
   "source": [
    "YmseT = Ymse.transpose()\n",
    "YmseT"
   ]
  },
  {
   "cell_type": "code",
   "execution_count": null,
   "metadata": {},
   "outputs": [],
   "source": [
    "rpms = [4000, 5000, 6000]\n",
    "columns = pd.Index(name='RPM', data=rpms)\n",
    "artpulse_error = pd.DataFrame(columns=columns, index=YmseT.index)\n",
    "for rpm in rpms:\n",
    "    # Compute MSE relative increase of each param for each rpm\n",
    "    percincrease = (YmseT[(rpm, True)] - YmseT[(rpm, False)])/YmseT[(rpm, False)] * 100\n",
    "    artpulse_error.loc[:, rpm] = percincrease"
   ]
  },
  {
   "cell_type": "code",
   "execution_count": null,
   "metadata": {},
   "outputs": [],
   "source": [
    "artpulse_error"
   ]
  },
  {
   "cell_type": "code",
   "execution_count": null,
   "metadata": {},
   "outputs": [],
   "source": [
    "artpulse_error.apply(np.mean, axis=1)"
   ]
  },
  {
   "cell_type": "markdown",
   "metadata": {},
   "source": [
    "### Effect of LVAD presence"
   ]
  },
  {
   "cell_type": "code",
   "execution_count": null,
   "metadata": {},
   "outputs": [],
   "source": [
    "Ymse.drop((0, False)).apply(np.mean)"
   ]
  },
  {
   "cell_type": "markdown",
   "metadata": {},
   "source": [
    "## HEmodynamic quantities"
   ]
  },
  {
   "cell_type": "code",
   "execution_count": null,
   "metadata": {},
   "outputs": [],
   "source": [
    "X = pd.read_csv('data/hemodynamic_test_data.csv')"
   ]
  },
  {
   "cell_type": "code",
   "execution_count": null,
   "metadata": {},
   "outputs": [],
   "source": [
    "X"
   ]
  },
  {
   "cell_type": "code",
   "execution_count": null,
   "metadata": {},
   "outputs": [],
   "source": [
    "X.columns"
   ]
  },
  {
   "cell_type": "code",
   "execution_count": null,
   "metadata": {},
   "outputs": [],
   "source": [
    "# Relative errors\n",
    "E = X.loc[:, ['RPM', 'art_pulse'] + [col for col in X.columns if '_relerr' in col]]"
   ]
  },
  {
   "cell_type": "code",
   "execution_count": null,
   "metadata": {},
   "outputs": [],
   "source": [
    "E"
   ]
  },
  {
   "cell_type": "markdown",
   "metadata": {},
   "source": [
    "### Mean relative errors"
   ]
  },
  {
   "cell_type": "code",
   "execution_count": null,
   "metadata": {},
   "outputs": [],
   "source": [
    "E"
   ]
  },
  {
   "cell_type": "code",
   "execution_count": null,
   "metadata": {},
   "outputs": [],
   "source": [
    "E = E.groupby(['RPM', 'art_pulse']).mean().rename({\n",
    "    col: col.split('_')[0] for col in E.columns[2:]\n",
    "}, axis=1)"
   ]
  },
  {
   "cell_type": "code",
   "execution_count": null,
   "metadata": {},
   "outputs": [],
   "source": [
    "E.index.rename(['RPM', 'Art. Pulse'], inplace=True)"
   ]
  },
  {
   "cell_type": "code",
   "execution_count": null,
   "metadata": {},
   "outputs": [],
   "source": [
    "pd.set_option('precision', 2)"
   ]
  },
  {
   "cell_type": "code",
   "execution_count": null,
   "metadata": {
    "ipub": {
     "table": {
      "ignore": false
     }
    }
   },
   "outputs": [],
   "source": [
    "E"
   ]
  },
  {
   "cell_type": "markdown",
   "metadata": {},
   "source": [
    "### Mean"
   ]
  },
  {
   "cell_type": "code",
   "execution_count": null,
   "metadata": {},
   "outputs": [],
   "source": [
    "Xmean = X.loc[:, [c for c in X.columns if '_relerr' in c]].mean()\n",
    "Xmean"
   ]
  },
  {
   "cell_type": "markdown",
   "metadata": {},
   "source": [
    "### Median"
   ]
  },
  {
   "cell_type": "code",
   "execution_count": null,
   "metadata": {},
   "outputs": [],
   "source": [
    "Xmed = X.loc[:, [c for c in X.columns if '_relerr' in c]].median()\n",
    "Xmed"
   ]
  },
  {
   "cell_type": "code",
   "execution_count": null,
   "metadata": {},
   "outputs": [],
   "source": [
    "pd.DataFrame([Xmean, Xmed]).transpose().rename({0:'Mean', 1:'Median'}, axis=1)"
   ]
  },
  {
   "cell_type": "markdown",
   "metadata": {},
   "source": [
    "### Describe"
   ]
  },
  {
   "cell_type": "code",
   "execution_count": null,
   "metadata": {},
   "outputs": [],
   "source": [
    "X.loc[:, [c for c in X.columns if '_relerr' in c]].describe().transpose()"
   ]
  },
  {
   "cell_type": "markdown",
   "metadata": {},
   "source": [
    "### Effect of artificial pulse"
   ]
  },
  {
   "cell_type": "code",
   "execution_count": null,
   "metadata": {},
   "outputs": [],
   "source": [
    "AP_data_ = E.drop('CI', axis=1).drop((0, False))\n",
    "AP_data_"
   ]
  },
  {
   "cell_type": "code",
   "execution_count": null,
   "metadata": {},
   "outputs": [],
   "source": [
    "AP_data = pd.DataFrame(index=AP_data_.columns)\n",
    "for rpm in [4000,5000,6000]:\n",
    "    diff = AP_data_.loc[(rpm, True), :] - AP_data_.loc[(rpm, False), :]\n",
    "    AP_data[rpm] = diff / AP_data_.loc[(rpm, True), :] * 100"
   ]
  },
  {
   "cell_type": "code",
   "execution_count": null,
   "metadata": {},
   "outputs": [],
   "source": [
    "AP_data"
   ]
  },
  {
   "cell_type": "code",
   "execution_count": null,
   "metadata": {},
   "outputs": [],
   "source": [
    "AP_data.mean()"
   ]
  },
  {
   "cell_type": "markdown",
   "metadata": {},
   "source": [
    "### Effet of RPMs when artificial pulse is active"
   ]
  },
  {
   "cell_type": "code",
   "execution_count": null,
   "metadata": {},
   "outputs": [],
   "source": [
    "RPM = X.loc[X.art_pulse == True, ['RPM'] + [c for c in X.columns if '_relerr' in c]].groupby('RPM').mean()\n",
    "RPM"
   ]
  },
  {
   "cell_type": "markdown",
   "metadata": {},
   "source": [
    "### Effect of RPM when artificial pulse is NOT active"
   ]
  },
  {
   "cell_type": "code",
   "execution_count": null,
   "metadata": {},
   "outputs": [],
   "source": [
    "RPM = X.loc[X.art_pulse == False, ['RPM'] + [c for c in X.columns if '_relerr' in c]].groupby('RPM').mean()\n",
    "RPM"
   ]
  }
 ],
 "metadata": {
  "kernelspec": {
   "display_name": "Python 3",
   "language": "python",
   "name": "python3"
  },
  "language_info": {
   "codemirror_mode": {
    "name": "ipython",
    "version": 3
   },
   "file_extension": ".py",
   "mimetype": "text/x-python",
   "name": "python",
   "nbconvert_exporter": "python",
   "pygments_lexer": "ipython3",
   "version": "3.7.7"
  }
 },
 "nbformat": 4,
 "nbformat_minor": 4
}
