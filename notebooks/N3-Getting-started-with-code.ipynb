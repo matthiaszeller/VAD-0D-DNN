{
 "cells": [
  {
   "cell_type": "markdown",
   "metadata": {},
   "source": [
    "# Introduction\n",
    "\n",
    "###### Aim\n",
    "\n",
    "Once Jean's repository has been cloned, explore the code structure, understand the necessary changes to perform, implement them.\n",
    "\n",
    "\n",
    "###### Install packages \n",
    "\n",
    "OMPython: https://github.com/OpenModelica/OMPython. Don't forget to run with python3:\n",
    "\n",
    "    python3 -m pip install -U https://github.com/OpenModelica/OMPython/archive/master.zip"
   ]
  },
  {
   "cell_type": "markdown",
   "metadata": {},
   "source": [
    "# File structure\n",
    "\n"
   ]
  },
  {
   "cell_type": "code",
   "execution_count": 2,
   "metadata": {
    "scrolled": false
   },
   "outputs": [
    {
     "name": "stdout",
     "output_type": "stream",
     "text": [
      "\u001b[34;42m../\u001b[00m\r\n",
      "├── \u001b[34;42mDeep_learning\u001b[00m\r\n",
      "│   ├── \u001b[01;32mHelp_test_driver.txt\u001b[00m\r\n",
      "│   ├── \u001b[01;32mtest_driver.py\u001b[00m\r\n",
      "│   ├── \u001b[01;32mtest_runmodel.py\u001b[00m\r\n",
      "│   └── \u001b[01;32mutils_deeplearning.py\u001b[00m\r\n",
      "├── \u001b[34;42mexportToHTML\u001b[00m\r\n",
      "│   └── \u001b[01;32mlaunch_openmodelica_physiological.py.html\u001b[00m\r\n",
      "├── \u001b[34;42mhq-curve\u001b[00m\r\n",
      "│   ├── \u001b[01;32mCapture du 2020-02-28 11-51-44.png\u001b[00m\r\n",
      "│   ├── \u001b[01;32mH-fun-of-Q.png\u001b[00m\r\n",
      "│   ├── \u001b[01;32mhq-curve-document.pdf\u001b[00m\r\n",
      "│   ├── \u001b[01;32mHQ-curve-HMIII-rotated.png\u001b[00m\r\n",
      "│   ├── \u001b[01;32moriginal-p-fun-of-q.png\u001b[00m\r\n",
      "│   ├── \u001b[01;32mQ-fun-of-H.png\u001b[00m\r\n",
      "│   └── \u001b[01;32mqh-curve-doc.odt\u001b[00m\r\n",
      "├── \u001b[34;42mmodelica\u001b[00m\r\n",
      "│   ├── \u001b[01;32mflow_equations\u001b[00m\r\n",
      "│   ├── \u001b[01;32mMathcard.mo\u001b[00m\r\n",
      "│   ├── \u001b[01;32mMathcard.mo.BACKUP\u001b[00m\r\n",
      "│   ├── \u001b[01;32mMathcard_ORIGINAL.mo\u001b[00m\r\n",
      "│   └── \u001b[34;42mparameters\u001b[00m\r\n",
      "│       ├── \u001b[01;32mModelParametersMHF8000\u001b[00m\r\n",
      "│       ├── \u001b[01;32mModelParametersMHF8000 -> ModelParametersSHF8000.diff\u001b[00m\r\n",
      "│       ├── \u001b[01;32mModelParametersNH\u001b[00m\r\n",
      "│       ├── \u001b[01;32mModelParametersNH -> ModelParametersMHF8000.diff\u001b[00m\r\n",
      "│       ├── \u001b[01;32mModelParametersSHF\u001b[00m\r\n",
      "│       ├── \u001b[01;32mModelParametersSHF8000\u001b[00m\r\n",
      "│       ├── \u001b[01;32mModelParametersSHF8000 -> ModelParametersSHF9000.diff\u001b[00m\r\n",
      "│       ├── \u001b[01;32mModelParametersSHF9000\u001b[00m\r\n",
      "│       ├── \u001b[01;32mModelParametersSHF -> ModelParametersSHF8000.diff\u001b[00m\r\n",
      "│       ├── \u001b[01;32mUrsino1998Model\u001b[00m\r\n",
      "│       ├── \u001b[01;32mUrsino1998Model -> Ursino1998ModelVad.diff\u001b[00m\r\n",
      "│       ├── \u001b[01;32mUrsino1998ModelVad\u001b[00m\r\n",
      "│       ├── \u001b[01;32mUrsino1998Model_VAD2\u001b[00m\r\n",
      "│       └── \u001b[01;32mUrsino1998ModelVad -> Ursino1998Model_VAD2.diff\u001b[00m\r\n",
      "├── \u001b[34;42mModelica_Code\u001b[00m\r\n",
      "│   └── \u001b[34;42m0D_Original\u001b[00m\r\n",
      "│       └── \u001b[01;32mMathcard.mo\u001b[00m\r\n",
      "├── \u001b[34;42mnotebooks\u001b[00m\r\n",
      "│   ├── \u001b[01;32mN1-HQ-curve-HMIII.ipynb\u001b[00m\r\n",
      "│   ├── \u001b[01;32mN2-test-models.ipynb\u001b[00m\r\n",
      "│   └── \u001b[01;32mN3-Getting-started-with-code.ipynb\u001b[00m\r\n",
      "├── \u001b[34;42mPost-processing_Code\u001b[00m\r\n",
      "│   ├── \u001b[01;32mcreatedataforanalysis.m\u001b[00m\r\n",
      "│   ├── \u001b[01;32mheartrate.m\u001b[00m\r\n",
      "│   ├── \u001b[01;32mleftventricularejectionfraction.m\u001b[00m\r\n",
      "│   ├── \u001b[01;32mmeanintegral.m\u001b[00m\r\n",
      "│   ├── \u001b[01;32mmeanpressure.m\u001b[00m\r\n",
      "│   ├── \u001b[01;32mScriptDataTreatment.m\u001b[00m\r\n",
      "│   ├── \u001b[01;32mtest_dnnmodelevaluation.m\u001b[00m\r\n",
      "│   ├── \u001b[01;32mtest_plotstageheartfailure.m\u001b[00m\r\n",
      "│   ├── \u001b[01;32mtest_resultscomparison.m\u001b[00m\r\n",
      "│   ├── \u001b[01;32mtest_statisticalanalysis.m\u001b[00m\r\n",
      "│   └── \u001b[01;32mtest_visualization.m\u001b[00m\r\n",
      "├── \u001b[34;42mPre-processing\u001b[00m\r\n",
      "│   ├── \u001b[01;32mextractresults.m\u001b[00m\r\n",
      "│   ├── \u001b[01;32mgetconstanttimesteps.m\u001b[00m\r\n",
      "│   ├── \u001b[01;32mgetparametersfrommodel.m\u001b[00m\r\n",
      "│   ├── \u001b[01;32mintegralmean.m\u001b[00m\r\n",
      "│   ├── \u001b[01;32mmodel_file_0.mat\u001b[00m\r\n",
      "│   ├── \u001b[01;32mmodel_file_1.mat\u001b[00m\r\n",
      "│   ├── \u001b[01;32mmyfft.m\u001b[00m\r\n",
      "│   ├── \u001b[01;32mperformfftonsignal.m\u001b[00m\r\n",
      "│   ├── \u001b[01;32mtest_createdataset.m\u001b[00m\r\n",
      "│   ├── \u001b[01;32mtest_fftwithactualsignal.m\u001b[00m\r\n",
      "│   ├── \u001b[01;32mtest_fftwithanalyticfunction.m\u001b[00m\r\n",
      "│   ├── \u001b[01;32mtest_normalheart.m\u001b[00m\r\n",
      "│   └── \u001b[01;32mtimerange.m\u001b[00m\r\n",
      "├── \u001b[01;32mREADME.md\u001b[00m\r\n",
      "├── \u001b[34;42mres\u001b[00m\r\n",
      "│   ├── \u001b[01;32mHM2-noVAD-NOregulation.png\u001b[00m\r\n",
      "│   ├── \u001b[01;32mHM2-RPM8000-NOregulation.png\u001b[00m\r\n",
      "│   ├── \u001b[01;32mHM2-RPM8000-regulation.png\u001b[00m\r\n",
      "│   ├── \u001b[01;32mHM3-deactivated-VAD-RPM5000-No-regulation.png\u001b[00m\r\n",
      "│   ├── \u001b[01;32mHM3-deactivated-VAD-RPM5000-regulation.png\u001b[00m\r\n",
      "│   ├── \u001b[01;32mHM3-highNstep-RPM5000-NOregulation.png\u001b[00m\r\n",
      "│   ├── \u001b[01;32mHM3-highNstep-RPM5000-regulation.png\u001b[00m\r\n",
      "│   ├── \u001b[01;32mHM3-no-regulation-RPM5000-MHF.png\u001b[00m\r\n",
      "│   ├── \u001b[01;32mHM3-RPM5000-regulation-Flowrates.png\u001b[00m\r\n",
      "│   ├── \u001b[01;32mHMIII-RPM5000-NOreg-VAD-Flowrates.png\u001b[00m\r\n",
      "│   ├── \u001b[01;32mHMIII-RPM5000-NOreg-VAD-Pressures.png\u001b[00m\r\n",
      "│   ├── \u001b[01;32mHMIII-RPM5000-regulation-VAD-Flowrates.png\u001b[00m\r\n",
      "│   ├── \u001b[01;32mHMIII-RPM5000-regulation-VAD-Pressures.png\u001b[00m\r\n",
      "│   ├── \u001b[01;32mHMII-regulation-RPM8000.png\u001b[00m\r\n",
      "│   ├── \u001b[01;32mHQ-curve-HMIII.png\u001b[00m\r\n",
      "│   ├── \u001b[01;32mLVAD_dP.png\u001b[00m\r\n",
      "│   ├── \u001b[01;32mUrsino1998Model_no_LVAD_no_regul.png\u001b[00m\r\n",
      "│   └── \u001b[01;32mUrsino1998ModelVad.svg\u001b[00m\r\n",
      "├── \u001b[34;42mSimulation_script\u001b[00m\r\n",
      "│   ├── \u001b[01;32mlaunch_openmodelica_physiological.py\u001b[00m\r\n",
      "│   ├── \u001b[01;32mlaunch_openmodelica.py\u001b[00m\r\n",
      "│   ├── \u001b[34;42m__pycache__\u001b[00m\r\n",
      "│   │   ├── \u001b[01;32mlaunch_openmodelica.cpython-37.pyc\u001b[00m\r\n",
      "│   │   └── \u001b[01;32mutils_openmodelica.cpython-37.pyc\u001b[00m\r\n",
      "│   └── \u001b[01;32mutils_openmodelica.py\u001b[00m\r\n",
      "├── \u001b[01;32mTemplate_Simulation_informations.txt\u001b[00m\r\n",
      "└── \u001b[34;42mtest\u001b[00m\r\n",
      "    ├── \u001b[01;32mHelloWorld.mo\u001b[00m\r\n",
      "    ├── \u001b[34;42minheritance\u001b[00m\r\n",
      "    │   ├── \u001b[01;32mColorData.mo\u001b[00m\r\n",
      "    │   ├── \u001b[01;32mColoredPoint.mo\u001b[00m\r\n",
      "    │   ├── \u001b[01;32mColor.mo\u001b[00m\r\n",
      "    │   └── \u001b[01;32mPoint.mo\u001b[00m\r\n",
      "    └── \u001b[01;32mPendulum.mo\u001b[00m\r\n",
      "\r\n",
      "15 directories, 89 files\r\n"
     ]
    }
   ],
   "source": [
    "!tree ../"
   ]
  },
  {
   "cell_type": "markdown",
   "metadata": {},
   "source": [
    "###### Comments\n",
    "\n",
    "* Code to the original modelica file `Modelica_Code/0D_Original/Matcard.mo`\n",
    "* The first step is to run simulations of Modelica code with `launch_openmodelica.py` (I guess this is the new version of  `launch_openmodelica_physiological.py`)\n",
    "* The run pre-processing\n",
    "* Eventually, DNN and post-processing (or post-processing and DNN...)"
   ]
  },
  {
   "cell_type": "markdown",
   "metadata": {},
   "source": [
    "# Run simulations\n",
    "\n",
    "File: `Simulation_script/launch_openmodelica.py`\n",
    "\n",
    "###### Data management\n",
    "\n",
    "The `filepath` variable should be set. Its current value is:\n",
    "\n",
    "    filepath=\"/Users/jean.bonnemain/Documents/Code/0d_model/Modelica_Code/0D_Original/\"\n",
    "    \n",
    "The modelica file is assumed to be named `Mathcard.mo` inside this folder. For each sample, some parameters are generated and a new modelica file is created.l\n",
    "\n",
    "###### Steps performed in code\n",
    "\n",
    "1. Define `filepath` \n",
    "1. Determine the output folder, based on `os.getcwd()` and curent time !\n",
    "    1. Call `utils_openmodelica.prepareOutputFolder(outputFolder)`, which creates the output folder containing the subfolders `models/` and `outputs/`\n",
    "1. Define parameters and their range of values\n",
    "1. Loop over `numberofsamples`\n",
    "    1. `uo.launchSimulation(filepath, listParameters, suffix, outputfolder)`\n",
    "    1. Output file format: `Mathcard_suffix.mo`\n",
    "    1. `changeValueInFile(filepath, listParameters, outputfile, outputfolder)`\n",
    "    1. Load modelica libraries with `OMPython.OMCSessionZMQ.sendExpression`\n",
    "    1. Use the same function to simulate the file whose parameters were modified\n",
    "    1. The resulting file of the simulation `<file>_res.mat` is renamed and placed in an `output` folder"
   ]
  },
  {
   "cell_type": "markdown",
   "metadata": {},
   "source": [
    "## What to change \n",
    "\n",
    "### File path\n",
    "\n",
    "File `launch_openmodelica.py`, variable `filepath`."
   ]
  },
  {
   "cell_type": "markdown",
   "metadata": {},
   "source": [
    "## `changeValueInFile`\n",
    "\n",
    "Differences between the original Mathcard file and `Mathcard_0.mo`:\n",
    "\n",
    "    --- /media/matthias/Data/Programmation/git/VAD-0D-DNN/modelica/original/Mathcard.mo\tFri Mar 13 11:35:24 2020\n",
    "    +++ /media/matthias/Data/Programmation/git/VAD-0D-DNN/modelica/original/Mathcard_0.mo\tFri Mar 13 12:20:44 2020\n",
    "    @@ -844,13 +844,13 @@\n",
    "             parameter Real Param_MitralicValve_R(unit = \"mmHg.s2/ml\") = 2.5 * 0.001;\n",
    "             parameter Real Param_LeftVentricle_V0(unit = \"ml\") = 16.77;\n",
    "             parameter Real Param_LeftVentricle_kR(unit = \"s/ml\") = 3.75 * 0.0001;\n",
    "    -        parameter Real Param_LeftVentricle_Emax0 = 2.95;\n",
    "    -        parameter Real Param_LeftVentricle_EmaxRef0 = 2.392;\n",
    "    -        parameter Real Param_LeftVentricle_AGain_Emax = 0.475;\n",
    "    +        parameter Real Param_LeftVentricle_Emax0 = 2.53434011308;\n",
    "    +        parameter Real Param_LeftVentricle_EmaxRef0 = 2.06805532326;\n",
    "    +        parameter Real Param_LeftVentricle_AGain_Emax = 0.264229438397;\n",
    "             parameter Real Param_LeftVentricle_ADelay_Emax = 2;\n",
    "             parameter Real Param_LeftVentricle_ATau_Emax = 8;\n",
    "             parameter Real Param_LeftVentricle_P0(unit = \"mmHg\") = 1.5;\n",
    "    -        parameter Real Param_LeftVentricle_kE(unit = \"1/ml\") = 0.014;\n",
    "    +        parameter Real Param_LeftVentricle_kE(unit = \"1/ml\") = 0.0112186943547;\n",
    "             parameter Real Param_LeftVentricle_TSys0(unit = \"s\") = 0.5;\n",
    "             parameter Real Param_LeftVentricle_kSys(unit = \"s2\") = 0.075;\n",
    "             parameter Real Param_LeftVentricle_TRef0 = 0.58;\n",
    "\n",
    "\n",
    "As expected, only the relevant parameters (4 in total) are modified."
   ]
  },
  {
   "cell_type": "code",
   "execution_count": null,
   "metadata": {},
   "outputs": [],
   "source": []
  },
  {
   "cell_type": "code",
   "execution_count": null,
   "metadata": {},
   "outputs": [],
   "source": []
  },
  {
   "cell_type": "code",
   "execution_count": null,
   "metadata": {},
   "outputs": [],
   "source": []
  },
  {
   "cell_type": "code",
   "execution_count": null,
   "metadata": {},
   "outputs": [],
   "source": []
  },
  {
   "cell_type": "code",
   "execution_count": null,
   "metadata": {},
   "outputs": [],
   "source": []
  },
  {
   "cell_type": "code",
   "execution_count": null,
   "metadata": {},
   "outputs": [],
   "source": []
  },
  {
   "cell_type": "code",
   "execution_count": null,
   "metadata": {},
   "outputs": [],
   "source": []
  },
  {
   "cell_type": "code",
   "execution_count": null,
   "metadata": {},
   "outputs": [],
   "source": []
  },
  {
   "cell_type": "code",
   "execution_count": null,
   "metadata": {},
   "outputs": [],
   "source": []
  }
 ],
 "metadata": {
  "kernelspec": {
   "display_name": "Python 3",
   "language": "python",
   "name": "python3"
  },
  "language_info": {
   "codemirror_mode": {
    "name": "ipython",
    "version": 3
   },
   "file_extension": ".py",
   "mimetype": "text/x-python",
   "name": "python",
   "nbconvert_exporter": "python",
   "pygments_lexer": "ipython3",
   "version": "3.7.3"
  },
  "toc": {
   "base_numbering": 1,
   "nav_menu": {},
   "number_sections": true,
   "sideBar": true,
   "skip_h1_title": false,
   "title_cell": "Table of Contents",
   "title_sidebar": "Contents",
   "toc_cell": false,
   "toc_position": {},
   "toc_section_display": true,
   "toc_window_display": false
  }
 },
 "nbformat": 4,
 "nbformat_minor": 2
}
